{
 "cells": [
  {
   "cell_type": "code",
   "execution_count": 6,
   "id": "11e00fdd-4e12-40cd-ba2b-1d1fe742af4e",
   "metadata": {},
   "outputs": [],
   "source": [
    "DataSet = [13, 15, 16, 16, 19, 20, 20, 21, 22, 22, 25, 25, 25, 25, 30, 33, 33, 35, 35, 35, 36, 40, 45, 46, 52, 70]"
   ]
  },
  {
   "cell_type": "code",
   "execution_count": 7,
   "id": "e49d3d40-9b93-4d2b-a537-5a1017962f2c",
   "metadata": {},
   "outputs": [],
   "source": [
    "import collections"
   ]
  },
  {
   "cell_type": "code",
   "execution_count": 8,
   "id": "7e870461-dca5-4d22-93bb-dbcf4ec8a478",
   "metadata": {},
   "outputs": [
    {
     "data": {
      "text/plain": [
       "Counter({13: 1,\n",
       "         15: 1,\n",
       "         16: 2,\n",
       "         19: 1,\n",
       "         20: 2,\n",
       "         21: 1,\n",
       "         22: 2,\n",
       "         25: 4,\n",
       "         30: 1,\n",
       "         33: 2,\n",
       "         35: 3,\n",
       "         36: 1,\n",
       "         40: 1,\n",
       "         45: 1,\n",
       "         46: 1,\n",
       "         52: 1,\n",
       "         70: 1})"
      ]
     },
     "execution_count": 8,
     "metadata": {},
     "output_type": "execute_result"
    }
   ],
   "source": [
    "collections.Counter(DataSet)"
   ]
  },
  {
   "cell_type": "code",
   "execution_count": 9,
   "id": "c2f44d13-d8e2-455e-a80c-96751a85cf99",
   "metadata": {},
   "outputs": [],
   "source": [
    "from collections import Counter"
   ]
  },
  {
   "cell_type": "code",
   "execution_count": 10,
   "id": "8475a870-8f15-4c2a-b914-4934ed43608b",
   "metadata": {},
   "outputs": [
    {
     "data": {
      "text/plain": [
       "Counter({13: 1,\n",
       "         15: 1,\n",
       "         16: 2,\n",
       "         19: 1,\n",
       "         20: 2,\n",
       "         21: 1,\n",
       "         22: 2,\n",
       "         25: 4,\n",
       "         30: 1,\n",
       "         33: 2,\n",
       "         35: 3,\n",
       "         36: 1,\n",
       "         40: 1,\n",
       "         45: 1,\n",
       "         46: 1,\n",
       "         52: 1,\n",
       "         70: 1})"
      ]
     },
     "execution_count": 10,
     "metadata": {},
     "output_type": "execute_result"
    }
   ],
   "source": [
    "Counter(DataSet)"
   ]
  },
  {
   "cell_type": "code",
   "execution_count": 11,
   "id": "ea9bcb2e-4e82-4ee1-a92f-0ca49d3b6e23",
   "metadata": {},
   "outputs": [],
   "source": [
    "l = ['a', 'b', 'c', 'd', 'b', 'c', 'b']"
   ]
  },
  {
   "cell_type": "code",
   "execution_count": 12,
   "id": "8238d98d-d608-4871-a447-739fa5899ac0",
   "metadata": {},
   "outputs": [
    {
     "data": {
      "text/plain": [
       "Counter({'a': 1, 'b': 3, 'c': 2, 'd': 1})"
      ]
     },
     "execution_count": 12,
     "metadata": {},
     "output_type": "execute_result"
    }
   ],
   "source": [
    "Counter(l)"
   ]
  },
  {
   "cell_type": "code",
   "execution_count": 13,
   "id": "2db30604-ffa8-4fcd-925d-a0046e87beb5",
   "metadata": {},
   "outputs": [],
   "source": [
    "import pandas as pd"
   ]
  },
  {
   "cell_type": "code",
   "execution_count": 14,
   "id": "5d7c6481-1242-48a4-8498-6f07f84397fb",
   "metadata": {},
   "outputs": [],
   "source": [
    "s = pd.Series(l)"
   ]
  },
  {
   "cell_type": "code",
   "execution_count": 15,
   "id": "aed04e2f-ab35-4153-a05c-12d3458613bd",
   "metadata": {},
   "outputs": [
    {
     "data": {
      "text/plain": [
       "0    a\n",
       "1    b\n",
       "2    c\n",
       "3    d\n",
       "4    b\n",
       "5    c\n",
       "6    b\n",
       "dtype: object"
      ]
     },
     "execution_count": 15,
     "metadata": {},
     "output_type": "execute_result"
    }
   ],
   "source": [
    "s"
   ]
  },
  {
   "cell_type": "code",
   "execution_count": 16,
   "id": "c1363247-737b-4582-b363-4bc18739ca0a",
   "metadata": {},
   "outputs": [
    {
     "data": {
      "text/plain": [
       "b    3\n",
       "c    2\n",
       "a    1\n",
       "d    1\n",
       "dtype: int64"
      ]
     },
     "execution_count": 16,
     "metadata": {},
     "output_type": "execute_result"
    }
   ],
   "source": [
    "s.value_counts()"
   ]
  },
  {
   "cell_type": "code",
   "execution_count": null,
   "id": "e86d629e-4d32-497e-bda6-babdfc95734e",
   "metadata": {},
   "outputs": [],
   "source": []
  }
 ],
 "metadata": {
  "kernelspec": {
   "display_name": "Python 3 (ipykernel)",
   "language": "python",
   "name": "python3"
  },
  "language_info": {
   "codemirror_mode": {
    "name": "ipython",
    "version": 3
   },
   "file_extension": ".py",
   "mimetype": "text/x-python",
   "name": "python",
   "nbconvert_exporter": "python",
   "pygments_lexer": "ipython3",
   "version": "3.9.13"
  }
 },
 "nbformat": 4,
 "nbformat_minor": 5
}
