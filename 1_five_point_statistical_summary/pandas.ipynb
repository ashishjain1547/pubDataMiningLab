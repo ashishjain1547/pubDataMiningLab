{
 "cells": [
  {
   "cell_type": "code",
   "execution_count": 1,
   "id": "266cf4ec-b720-4c51-b8f1-9d0d5660c315",
   "metadata": {},
   "outputs": [],
   "source": [
    "import pandas as pd"
   ]
  },
  {
   "cell_type": "code",
   "execution_count": 2,
   "id": "aae9e1dc-f639-4f7b-876d-abb413f71d60",
   "metadata": {},
   "outputs": [],
   "source": [
    "DataSet = [13, 15, 16, 16, 19, 20, 20, 21, 22, 22, 25, 25, 25, 25, 30, 33, 33, 35, 35, 35, 36, 40, 45, 46, 52, 70]"
   ]
  },
  {
   "cell_type": "code",
   "execution_count": 3,
   "id": "9720ce26-82dd-424f-a592-b44f1cd8f4df",
   "metadata": {},
   "outputs": [
    {
     "data": {
      "text/plain": [
       "list"
      ]
     },
     "execution_count": 3,
     "metadata": {},
     "output_type": "execute_result"
    }
   ],
   "source": [
    "type(DataSet)"
   ]
  },
  {
   "cell_type": "code",
   "execution_count": 4,
   "id": "f51759f1-515a-457f-a4c9-8815f2b3d12d",
   "metadata": {},
   "outputs": [],
   "source": [
    "s = pd.Series(DataSet)"
   ]
  },
  {
   "cell_type": "code",
   "execution_count": 5,
   "id": "17179db3-2dfe-4a2a-9a8a-c5d273d9d75f",
   "metadata": {},
   "outputs": [
    {
     "data": {
      "text/plain": [
       "0     13\n",
       "1     15\n",
       "2     16\n",
       "3     16\n",
       "4     19\n",
       "5     20\n",
       "6     20\n",
       "7     21\n",
       "8     22\n",
       "9     22\n",
       "10    25\n",
       "11    25\n",
       "12    25\n",
       "13    25\n",
       "14    30\n",
       "15    33\n",
       "16    33\n",
       "17    35\n",
       "18    35\n",
       "19    35\n",
       "20    36\n",
       "21    40\n",
       "22    45\n",
       "23    46\n",
       "24    52\n",
       "25    70\n",
       "dtype: int64"
      ]
     },
     "execution_count": 5,
     "metadata": {},
     "output_type": "execute_result"
    }
   ],
   "source": [
    "s"
   ]
  },
  {
   "cell_type": "code",
   "execution_count": 6,
   "id": "01e685ec-3371-4924-802c-389fc93044ce",
   "metadata": {},
   "outputs": [],
   "source": [
    "df = pd.DataFrame(DataSet)"
   ]
  },
  {
   "cell_type": "code",
   "execution_count": 7,
   "id": "4c5656b9-f621-4a4b-9635-df4440bd0b93",
   "metadata": {},
   "outputs": [
    {
     "data": {
      "text/html": [
       "<div>\n",
       "<style scoped>\n",
       "    .dataframe tbody tr th:only-of-type {\n",
       "        vertical-align: middle;\n",
       "    }\n",
       "\n",
       "    .dataframe tbody tr th {\n",
       "        vertical-align: top;\n",
       "    }\n",
       "\n",
       "    .dataframe thead th {\n",
       "        text-align: right;\n",
       "    }\n",
       "</style>\n",
       "<table border=\"1\" class=\"dataframe\">\n",
       "  <thead>\n",
       "    <tr style=\"text-align: right;\">\n",
       "      <th></th>\n",
       "      <th>0</th>\n",
       "    </tr>\n",
       "  </thead>\n",
       "  <tbody>\n",
       "    <tr>\n",
       "      <th>0</th>\n",
       "      <td>13</td>\n",
       "    </tr>\n",
       "    <tr>\n",
       "      <th>1</th>\n",
       "      <td>15</td>\n",
       "    </tr>\n",
       "    <tr>\n",
       "      <th>2</th>\n",
       "      <td>16</td>\n",
       "    </tr>\n",
       "    <tr>\n",
       "      <th>3</th>\n",
       "      <td>16</td>\n",
       "    </tr>\n",
       "    <tr>\n",
       "      <th>4</th>\n",
       "      <td>19</td>\n",
       "    </tr>\n",
       "  </tbody>\n",
       "</table>\n",
       "</div>"
      ],
      "text/plain": [
       "    0\n",
       "0  13\n",
       "1  15\n",
       "2  16\n",
       "3  16\n",
       "4  19"
      ]
     },
     "execution_count": 7,
     "metadata": {},
     "output_type": "execute_result"
    }
   ],
   "source": [
    "df.head()"
   ]
  },
  {
   "cell_type": "code",
   "execution_count": 8,
   "id": "03e4b04a-a11a-410f-ae40-0f795cdf83b2",
   "metadata": {},
   "outputs": [
    {
     "data": {
      "text/plain": [
       "count    26.000000\n",
       "mean     29.769231\n",
       "std      13.158443\n",
       "min      13.000000\n",
       "25%      20.250000\n",
       "50%      25.000000\n",
       "75%      35.000000\n",
       "max      70.000000\n",
       "dtype: float64"
      ]
     },
     "execution_count": 8,
     "metadata": {},
     "output_type": "execute_result"
    }
   ],
   "source": [
    "s.describe()"
   ]
  },
  {
   "cell_type": "code",
   "execution_count": 9,
   "id": "26a596fc-c492-4998-90f7-59126736f427",
   "metadata": {},
   "outputs": [
    {
     "data": {
      "text/plain": [
       "0    25\n",
       "dtype: int64"
      ]
     },
     "execution_count": 9,
     "metadata": {},
     "output_type": "execute_result"
    }
   ],
   "source": [
    "s.mode()"
   ]
  },
  {
   "cell_type": "code",
   "execution_count": 10,
   "id": "8b0dc44f-e1c1-4a74-ae0e-ba3fcc0a796b",
   "metadata": {},
   "outputs": [],
   "source": [
    "d = s.describe()"
   ]
  },
  {
   "cell_type": "code",
   "execution_count": 12,
   "id": "c78a3eab-2c95-49c2-a9ec-4d100a73c58f",
   "metadata": {},
   "outputs": [
    {
     "data": {
      "text/plain": [
       "pandas.core.series.Series"
      ]
     },
     "execution_count": 12,
     "metadata": {},
     "output_type": "execute_result"
    }
   ],
   "source": [
    "type(d)"
   ]
  },
  {
   "cell_type": "code",
   "execution_count": 13,
   "id": "42d61399-7e28-4895-9385-60a5c9884801",
   "metadata": {},
   "outputs": [
    {
     "data": {
      "text/plain": [
       "count    26.000000\n",
       "mean     29.769231\n",
       "std      13.158443\n",
       "min      13.000000\n",
       "25%      20.250000\n",
       "50%      25.000000\n",
       "75%      35.000000\n",
       "max      70.000000\n",
       "dtype: float64"
      ]
     },
     "execution_count": 13,
     "metadata": {},
     "output_type": "execute_result"
    }
   ],
   "source": [
    "d"
   ]
  },
  {
   "cell_type": "code",
   "execution_count": 15,
   "id": "3d38e74f-12cd-4d94-82bc-4292a5bb8938",
   "metadata": {},
   "outputs": [
    {
     "data": {
      "text/plain": [
       "57.0"
      ]
     },
     "execution_count": 15,
     "metadata": {},
     "output_type": "execute_result"
    }
   ],
   "source": [
    "d.loc['max'] - d.loc['min']"
   ]
  },
  {
   "cell_type": "code",
   "execution_count": 18,
   "id": "867a744d-8a31-4e60-80ca-4c229488ac29",
   "metadata": {},
   "outputs": [
    {
     "data": {
      "image/png": "[encoded data removed]",
      "text/plain": [
       "<Figure size 640x480 with 1 Axes>"
      ]
     },
     "metadata": {},
     "output_type": "display_data"
    }
   ],
   "source": [
    "import matplotlib.pyplot as plt\n",
    "\n",
    "# Plotting the box plot\n",
    "plt.boxplot(s)\n",
    "\n",
    "#Showing the plot\n",
    "plt.show()"
   ]
  },
  {
   "cell_type": "code",
   "execution_count": null,
   "id": "c9192703-f7c9-4937-9a4c-93e6875d3e26",
   "metadata": {},
   "outputs": [],
   "source": [
    "\n",
    "\n",
    "# Read the data\n",
    "df = pd.read_csv(r'bodyfat.csv')  \n",
    "\n",
    "data=df[['BodyFat', 'Age']]\n",
    "#Adding title\n"
   ]
  }
 ],
 "metadata": {
  "kernelspec": {
   "display_name": "Python 3 (ipykernel)",
   "language": "python",
   "name": "python3"
  },
  "language_info": {
   "codemirror_mode": {
    "name": "ipython",
    "version": 3
   },
   "file_extension": ".py",
   "mimetype": "text/x-python",
   "name": "python",
   "nbconvert_exporter": "python",
   "pygments_lexer": "ipython3",
   "version": "3.9.13"
  }
 },
 "nbformat": 4,
 "nbformat_minor": 5
}
