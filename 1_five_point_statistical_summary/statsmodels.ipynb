{
 "cells": [
  {
   "cell_type": "code",
   "execution_count": 8,
   "id": "46add184-86c1-4e8a-8c80-565f2e0605f6",
   "metadata": {},
   "outputs": [
    {
     "name": "stdout",
     "output_type": "stream",
     "text": [
      "Name: statsmodels\n",
      "Version: 0.13.5\n",
      "Summary: Statistical computations and models for Python\n",
      "Home-page: https://www.statsmodels.org/\n",
      "Author: \n",
      "Author-email: \n",
      "License: BSD License\n",
      "Location: /home/ashish/anaconda3/envs/py310/lib/python3.10/site-packages\n",
      "Requires: numpy, packaging, pandas, patsy, scipy\n",
      "Required-by: \n"
     ]
    }
   ],
   "source": [
    "!pip show statsmodels"
   ]
  },
  {
   "cell_type": "code",
   "execution_count": 9,
   "id": "fbd3141e-edeb-4cb2-bafe-c55afd12b9de",
   "metadata": {},
   "outputs": [],
   "source": [
    "# Calculating various statistics value for a data set using statmodels , sciPy , numpy and pandas module functions\n",
    "# importing required modules \n",
    "\n",
    "from statsmodels import stats\n",
    "import statsmodels.stats.weightstats as ws\n",
    "import statsmodels.stats.descriptivestats as ds\n",
    "import statsmodels.stats.libqsturng as lq"
   ]
  },
  {
   "cell_type": "code",
   "execution_count": 10,
   "id": "78ce9443-e9e8-413c-a8a7-e67f5dd91a62",
   "metadata": {},
   "outputs": [],
   "source": [
    "DataSet = [13, 15, 16, 16, 19, 20, 20, 21, 22, 22, 25, 25, 25, 25, 30, 33, 33, 35, 35, 35, 36, 40, 45, 46, 52, 70]"
   ]
  },
  {
   "cell_type": "code",
   "execution_count": 11,
   "id": "5c284682-f829-45ce-a1c9-dff12c9e0532",
   "metadata": {},
   "outputs": [
    {
     "name": "stdout",
     "output_type": "stream",
     "text": [
      "27.347117200207276\n",
      "desc_stats using statsmodels :                            0\n",
      "nobs              26.000000\n",
      "missing            0.000000\n",
      "mean              29.769231\n",
      "std_err            2.580583\n",
      "upper_ci          34.827080\n",
      "lower_ci          24.711381\n",
      "std               13.158443\n",
      "iqr               14.750000\n",
      "iqr_normal        10.934191\n",
      "mad               10.213018\n",
      "mad_normal        12.800120\n",
      "coef_var           0.442015\n",
      "range             57.000000\n",
      "max               70.000000\n",
      "min               13.000000\n",
      "skew               1.206785\n",
      "kurtosis           4.506284\n",
      "jarque_bera        8.768727\n",
      "jarque_bera_pval   0.012471\n",
      "mode              25.000000\n",
      "mode_freq          0.153846\n",
      "median            25.000000\n",
      "1%                13.500000\n",
      "5%                15.250000\n",
      "10%               16.000000\n",
      "25%               20.250000\n",
      "50%               25.000000\n",
      "75%               35.000000\n",
      "90%               45.500000\n",
      "95%               50.500000\n",
      "99%               65.500000\n"
     ]
    }
   ],
   "source": [
    "mean = ws.stats.gmean(DataSet)\n",
    "print(mean)\n",
    "\n",
    "# median = ws.stats.median(DataSet)\n",
    "# AttributeError: module 'scipy.stats' has no attribute 'median'\n",
    "\n",
    "desc_stats = ds.describe(DataSet)\n",
    "print(\"desc_stats using statsmodels : \", desc_stats)"
   ]
  },
  {
   "cell_type": "code",
   "execution_count": 12,
   "id": "c4032ffd-c4fd-4ad2-8d95-f6923ac9d9cd",
   "metadata": {},
   "outputs": [
    {
     "data": {
      "text/plain": [
       "pandas.core.frame.DataFrame"
      ]
     },
     "execution_count": 12,
     "metadata": {},
     "output_type": "execute_result"
    }
   ],
   "source": [
    "type(desc_stats) # pandas.core.frame.DataFrame"
   ]
  },
  {
   "cell_type": "code",
   "execution_count": 16,
   "id": "29918698-aea1-4546-b102-89192fc8edf6",
   "metadata": {},
   "outputs": [
    {
     "name": "stdout",
     "output_type": "stream",
     "text": [
      "mean 29.76923076923077\n",
      "median 25.0\n",
      "mode 25.0\n",
      "std 13.158442741624686\n",
      "25% 20.25\n",
      "50% 25.0\n",
      "75% 35.0\n",
      "iqr 14.75\n",
      "min 13.0\n",
      "max 70.0\n"
     ]
    }
   ],
   "source": [
    "for i in ['mean', 'median', 'mode', 'std', '25%', '50%', '75%', \n",
    "          'iqr', 'min', 'max']:\n",
    "    print(i, desc_stats.loc[i][0])"
   ]
  },
  {
   "cell_type": "code",
   "execution_count": 14,
   "id": "b3392e39-2a4d-400d-87b3-320a7c789da9",
   "metadata": {},
   "outputs": [
    {
     "name": "stdout",
     "output_type": "stream",
     "text": [
      "Mean using pandas : count    26.000000\n",
      "mean     29.769231\n",
      "std      13.158443\n",
      "min      13.000000\n",
      "25%      20.250000\n",
      "50%      25.000000\n",
      "75%      35.000000\n",
      "max      70.000000\n",
      "dtype: float64\n"
     ]
    }
   ],
   "source": [
    "import pandas as pd\n",
    "mean = pd.Series(DataSet).describe()\n",
    "print(\"Mean using pandas :\", mean)\n"
   ]
  },
  {
   "cell_type": "code",
   "execution_count": null,
   "id": "f4a0b32b-e784-4f21-a4fb-7006766f6828",
   "metadata": {},
   "outputs": [],
   "source": []
  },
  {
   "cell_type": "markdown",
   "id": "afc53cd1-82fa-48f4-960f-15a9ca1c0203",
   "metadata": {},
   "source": [
    "# Linear Regression"
   ]
  },
  {
   "cell_type": "code",
   "execution_count": 19,
   "id": "240a4ab8-9661-425a-888f-f11f53fe9bdb",
   "metadata": {},
   "outputs": [],
   "source": [
    "import statsmodels.api as sm\n",
    "import pandas as pd"
   ]
  },
  {
   "cell_type": "code",
   "execution_count": 20,
   "id": "a0731d2e-3e3c-44de-a895-13752e0b7ebd",
   "metadata": {},
   "outputs": [],
   "source": [
    "df = pd.read_csv('HeightWeight.csv')"
   ]
  },
  {
   "cell_type": "code",
   "execution_count": 21,
   "id": "ceb6079a-cb1b-47c5-8df1-65c4c5c47185",
   "metadata": {},
   "outputs": [],
   "source": [
    "results = sm.OLS(df['Height(Inches)'], df['Weight(Pounds)']).fit()"
   ]
  },
  {
   "cell_type": "code",
   "execution_count": 23,
   "id": "46568362-f9ff-40ef-8c72-459d8f813af5",
   "metadata": {},
   "outputs": [
    {
     "data": {
      "text/html": [
       "<table class=\"simpletable\">\n",
       "<caption>OLS Regression Results</caption>\n",
       "<tr>\n",
       "  <th>Dep. Variable:</th>     <td>Height(Inches)</td>  <th>  R-squared (uncentered):</th>      <td>   0.993</td> \n",
       "</tr>\n",
       "<tr>\n",
       "  <th>Model:</th>                   <td>OLS</td>       <th>  Adj. R-squared (uncentered):</th> <td>   0.993</td> \n",
       "</tr>\n",
       "<tr>\n",
       "  <th>Method:</th>             <td>Least Squares</td>  <th>  F-statistic:       </th>          <td>3.783e+06</td>\n",
       "</tr>\n",
       "<tr>\n",
       "  <th>Date:</th>             <td>Mon, 15 May 2023</td> <th>  Prob (F-statistic):</th>           <td>  0.00</td>  \n",
       "</tr>\n",
       "<tr>\n",
       "  <th>Time:</th>                 <td>13:09:01</td>     <th>  Log-Likelihood:    </th>          <td> -78144.</td> \n",
       "</tr>\n",
       "<tr>\n",
       "  <th>No. Observations:</th>      <td> 25000</td>      <th>  AIC:               </th>          <td>1.563e+05</td>\n",
       "</tr>\n",
       "<tr>\n",
       "  <th>Df Residuals:</th>          <td> 24999</td>      <th>  BIC:               </th>          <td>1.563e+05</td>\n",
       "</tr>\n",
       "<tr>\n",
       "  <th>Df Model:</th>              <td>     1</td>      <th>                     </th>              <td> </td>    \n",
       "</tr>\n",
       "<tr>\n",
       "  <th>Covariance Type:</th>      <td>nonrobust</td>    <th>                     </th>              <td> </td>    \n",
       "</tr>\n",
       "</table>\n",
       "<table class=\"simpletable\">\n",
       "<tr>\n",
       "         <td></td>           <th>coef</th>     <th>std err</th>      <th>t</th>      <th>P>|t|</th>  <th>[0.025</th>    <th>0.975]</th>  \n",
       "</tr>\n",
       "<tr>\n",
       "  <th>Weight(Pounds)</th> <td>    0.5313</td> <td>    0.000</td> <td> 1944.918</td> <td> 0.000</td> <td>    0.531</td> <td>    0.532</td>\n",
       "</tr>\n",
       "</table>\n",
       "<table class=\"simpletable\">\n",
       "<tr>\n",
       "  <th>Omnibus:</th>       <td> 3.114</td> <th>  Durbin-Watson:     </th> <td>   1.974</td>\n",
       "</tr>\n",
       "<tr>\n",
       "  <th>Prob(Omnibus):</th> <td> 0.211</td> <th>  Jarque-Bera (JB):  </th> <td>   3.091</td>\n",
       "</tr>\n",
       "<tr>\n",
       "  <th>Skew:</th>          <td> 0.024</td> <th>  Prob(JB):          </th> <td>   0.213</td>\n",
       "</tr>\n",
       "<tr>\n",
       "  <th>Kurtosis:</th>      <td> 3.025</td> <th>  Cond. No.          </th> <td>    1.00</td>\n",
       "</tr>\n",
       "</table><br/><br/>Notes:<br/>[1] R² is computed without centering (uncentered) since the model does not contain a constant.<br/>[2] Standard Errors assume that the covariance matrix of the errors is correctly specified."
      ],
      "text/plain": [
       "<class 'statsmodels.iolib.summary.Summary'>\n",
       "\"\"\"\n",
       "                                 OLS Regression Results                                \n",
       "=======================================================================================\n",
       "Dep. Variable:         Height(Inches)   R-squared (uncentered):                   0.993\n",
       "Model:                            OLS   Adj. R-squared (uncentered):              0.993\n",
       "Method:                 Least Squares   F-statistic:                          3.783e+06\n",
       "Date:                Mon, 15 May 2023   Prob (F-statistic):                        0.00\n",
       "Time:                        13:09:01   Log-Likelihood:                         -78144.\n",
       "No. Observations:               25000   AIC:                                  1.563e+05\n",
       "Df Residuals:                   24999   BIC:                                  1.563e+05\n",
       "Df Model:                           1                                                  \n",
       "Covariance Type:            nonrobust                                                  \n",
       "==================================================================================\n",
       "                     coef    std err          t      P>|t|      [0.025      0.975]\n",
       "----------------------------------------------------------------------------------\n",
       "Weight(Pounds)     0.5313      0.000   1944.918      0.000       0.531       0.532\n",
       "==============================================================================\n",
       "Omnibus:                        3.114   Durbin-Watson:                   1.974\n",
       "Prob(Omnibus):                  0.211   Jarque-Bera (JB):                3.091\n",
       "Skew:                           0.024   Prob(JB):                        0.213\n",
       "Kurtosis:                       3.025   Cond. No.                         1.00\n",
       "==============================================================================\n",
       "\n",
       "Notes:\n",
       "[1] R² is computed without centering (uncentered) since the model does not contain a constant.\n",
       "[2] Standard Errors assume that the covariance matrix of the errors is correctly specified.\n",
       "\"\"\""
      ]
     },
     "execution_count": 23,
     "metadata": {},
     "output_type": "execute_result"
    }
   ],
   "source": [
    "results.summary()"
   ]
  },
  {
   "cell_type": "code",
   "execution_count": null,
   "id": "8a17ec91-624e-4091-81d0-03d123e53248",
   "metadata": {},
   "outputs": [],
   "source": []
  }
 ],
 "metadata": {
  "kernelspec": {
   "display_name": "py310",
   "language": "python",
   "name": "py310"
  },
  "language_info": {
   "codemirror_mode": {
    "name": "ipython",
    "version": 3
   },
   "file_extension": ".py",
   "mimetype": "text/x-python",
   "name": "python",
   "nbconvert_exporter": "python",
   "pygments_lexer": "ipython3",
   "version": "3.10.10"
  }
 },
 "nbformat": 4,
 "nbformat_minor": 5
}
