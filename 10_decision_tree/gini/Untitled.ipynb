{
 "cells": [
  {
   "cell_type": "code",
   "execution_count": 9,
   "id": "1870fd5e-7eb5-43bc-a4bd-9094f2b7f688",
   "metadata": {},
   "outputs": [],
   "source": [
    "import pandas as pd\n",
    "from sklearn.tree import plot_tree\n",
    "from sklearn.tree import DecisionTreeClassifier\n",
    "from sklearn.model_selection import train_test_split"
   ]
  },
  {
   "cell_type": "code",
   "execution_count": null,
   "id": "7c8ecee8-c104-46e7-a45e-ab4dd3324a5b",
   "metadata": {},
   "outputs": [],
   "source": []
  },
  {
   "cell_type": "markdown",
   "id": "25c15c64-e804-4370-80be-508c1694ed67",
   "metadata": {},
   "source": [
    "# \"Buy a computer\" Data Set"
   ]
  },
  {
   "cell_type": "code",
   "execution_count": 10,
   "id": "5f5093d7-4ba4-4ec7-8d42-2f1d88ef0d24",
   "metadata": {},
   "outputs": [],
   "source": [
    "df = pd.read_csv('buys_a_computer.csv')"
   ]
  },
  {
   "cell_type": "code",
   "execution_count": 11,
   "id": "d400d0c4-2dce-4329-8caa-10e3348c70f7",
   "metadata": {},
   "outputs": [
    {
     "data": {
      "text/html": [
       "<div>\n",
       "<style scoped>\n",
       "    .dataframe tbody tr th:only-of-type {\n",
       "        vertical-align: middle;\n",
       "    }\n",
       "\n",
       "    .dataframe tbody tr th {\n",
       "        vertical-align: top;\n",
       "    }\n",
       "\n",
       "    .dataframe thead th {\n",
       "        text-align: right;\n",
       "    }\n",
       "</style>\n",
       "<table border=\"1\" class=\"dataframe\">\n",
       "  <thead>\n",
       "    <tr style=\"text-align: right;\">\n",
       "      <th></th>\n",
       "      <th>RID</th>\n",
       "      <th>age</th>\n",
       "      <th>income</th>\n",
       "      <th>student</th>\n",
       "      <th>credit_rating</th>\n",
       "      <th>buys_computer</th>\n",
       "    </tr>\n",
       "  </thead>\n",
       "  <tbody>\n",
       "    <tr>\n",
       "      <th>0</th>\n",
       "      <td>1</td>\n",
       "      <td>youth</td>\n",
       "      <td>high</td>\n",
       "      <td>no</td>\n",
       "      <td>fair</td>\n",
       "      <td>no</td>\n",
       "    </tr>\n",
       "    <tr>\n",
       "      <th>1</th>\n",
       "      <td>2</td>\n",
       "      <td>youth</td>\n",
       "      <td>high</td>\n",
       "      <td>no</td>\n",
       "      <td>excellent</td>\n",
       "      <td>no</td>\n",
       "    </tr>\n",
       "    <tr>\n",
       "      <th>2</th>\n",
       "      <td>3</td>\n",
       "      <td>middle_aged</td>\n",
       "      <td>high</td>\n",
       "      <td>no</td>\n",
       "      <td>fair</td>\n",
       "      <td>yes</td>\n",
       "    </tr>\n",
       "    <tr>\n",
       "      <th>3</th>\n",
       "      <td>4</td>\n",
       "      <td>senior</td>\n",
       "      <td>medium</td>\n",
       "      <td>no</td>\n",
       "      <td>fair</td>\n",
       "      <td>yes</td>\n",
       "    </tr>\n",
       "    <tr>\n",
       "      <th>4</th>\n",
       "      <td>5</td>\n",
       "      <td>senior</td>\n",
       "      <td>low</td>\n",
       "      <td>yes</td>\n",
       "      <td>fair</td>\n",
       "      <td>yes</td>\n",
       "    </tr>\n",
       "    <tr>\n",
       "      <th>5</th>\n",
       "      <td>6</td>\n",
       "      <td>senior</td>\n",
       "      <td>low</td>\n",
       "      <td>yes</td>\n",
       "      <td>excellent</td>\n",
       "      <td>no</td>\n",
       "    </tr>\n",
       "    <tr>\n",
       "      <th>6</th>\n",
       "      <td>7</td>\n",
       "      <td>middle_aged</td>\n",
       "      <td>low</td>\n",
       "      <td>yes</td>\n",
       "      <td>excellent</td>\n",
       "      <td>yes</td>\n",
       "    </tr>\n",
       "    <tr>\n",
       "      <th>7</th>\n",
       "      <td>8</td>\n",
       "      <td>youth</td>\n",
       "      <td>medium</td>\n",
       "      <td>no</td>\n",
       "      <td>fair</td>\n",
       "      <td>no</td>\n",
       "    </tr>\n",
       "    <tr>\n",
       "      <th>8</th>\n",
       "      <td>9</td>\n",
       "      <td>youth</td>\n",
       "      <td>low</td>\n",
       "      <td>yes</td>\n",
       "      <td>fair</td>\n",
       "      <td>yes</td>\n",
       "    </tr>\n",
       "    <tr>\n",
       "      <th>9</th>\n",
       "      <td>10</td>\n",
       "      <td>senior</td>\n",
       "      <td>medium</td>\n",
       "      <td>yes</td>\n",
       "      <td>fair</td>\n",
       "      <td>yes</td>\n",
       "    </tr>\n",
       "    <tr>\n",
       "      <th>10</th>\n",
       "      <td>11</td>\n",
       "      <td>youth</td>\n",
       "      <td>medium</td>\n",
       "      <td>yes</td>\n",
       "      <td>excellent</td>\n",
       "      <td>yes</td>\n",
       "    </tr>\n",
       "    <tr>\n",
       "      <th>11</th>\n",
       "      <td>12</td>\n",
       "      <td>middle_aged</td>\n",
       "      <td>medium</td>\n",
       "      <td>no</td>\n",
       "      <td>excellent</td>\n",
       "      <td>yes</td>\n",
       "    </tr>\n",
       "    <tr>\n",
       "      <th>12</th>\n",
       "      <td>13</td>\n",
       "      <td>middle_aged</td>\n",
       "      <td>high</td>\n",
       "      <td>yes</td>\n",
       "      <td>fair</td>\n",
       "      <td>yes</td>\n",
       "    </tr>\n",
       "    <tr>\n",
       "      <th>13</th>\n",
       "      <td>14</td>\n",
       "      <td>senior</td>\n",
       "      <td>medium</td>\n",
       "      <td>no</td>\n",
       "      <td>excellent</td>\n",
       "      <td>no</td>\n",
       "    </tr>\n",
       "  </tbody>\n",
       "</table>\n",
       "</div>"
      ],
      "text/plain": [
       "    RID          age  income student credit_rating buys_computer\n",
       "0     1        youth    high      no          fair            no\n",
       "1     2        youth    high      no     excellent            no\n",
       "2     3  middle_aged    high      no          fair           yes\n",
       "3     4       senior  medium      no          fair           yes\n",
       "4     5       senior     low     yes          fair           yes\n",
       "5     6       senior     low     yes     excellent            no\n",
       "6     7  middle_aged     low     yes     excellent           yes\n",
       "7     8        youth  medium      no          fair            no\n",
       "8     9        youth     low     yes          fair           yes\n",
       "9    10       senior  medium     yes          fair           yes\n",
       "10   11        youth  medium     yes     excellent           yes\n",
       "11   12  middle_aged  medium      no     excellent           yes\n",
       "12   13  middle_aged    high     yes          fair           yes\n",
       "13   14       senior  medium      no     excellent            no"
      ]
     },
     "execution_count": 11,
     "metadata": {},
     "output_type": "execute_result"
    }
   ],
   "source": [
    "df"
   ]
  },
  {
   "cell_type": "markdown",
   "id": "a752d382-17a5-4d0e-bd73-8fa7051f5a4e",
   "metadata": {},
   "source": [
    "# Converting the categorical data into numerical values"
   ]
  },
  {
   "cell_type": "code",
   "execution_count": 12,
   "id": "dfdd98c2-668c-4b00-9201-504eef0509c1",
   "metadata": {},
   "outputs": [
    {
     "data": {
      "text/plain": [
       "OrdinalEncoder()"
      ]
     },
     "execution_count": 12,
     "metadata": {},
     "output_type": "execute_result"
    }
   ],
   "source": [
    "from sklearn.preprocessing import OrdinalEncoder\n",
    "enc = OrdinalEncoder()\n",
    "X = df[['age', 'income', 'student', 'credit_rating']]\n",
    "y = df['buys_computer']\n",
    "enc.fit(X)"
   ]
  },
  {
   "cell_type": "code",
   "execution_count": 13,
   "id": "913c4ff9-bfda-405b-ad4b-e30d9cbe7aa7",
   "metadata": {},
   "outputs": [
    {
     "data": {
      "text/plain": [
       "[array(['middle_aged', 'senior', 'youth'], dtype=object),\n",
       " array(['high', 'low', 'medium'], dtype=object),\n",
       " array(['no', 'yes'], dtype=object),\n",
       " array(['excellent', 'fair'], dtype=object)]"
      ]
     },
     "execution_count": 13,
     "metadata": {},
     "output_type": "execute_result"
    }
   ],
   "source": [
    "enc.categories_"
   ]
  },
  {
   "cell_type": "markdown",
   "id": "570cf66b-8b79-45aa-87d8-f0b57b5280f8",
   "metadata": {},
   "source": [
    "# Building a decision tree"
   ]
  },
  {
   "cell_type": "code",
   "execution_count": 14,
   "id": "08a631b0-67fb-43d2-8970-19e585b3dd09",
   "metadata": {},
   "outputs": [
    {
     "data": {
      "image/png": "[encoded data removed]",
      "text/plain": [
       "<Figure size 640x480 with 1 Axes>"
      ]
     },
     "metadata": {},
     "output_type": "display_data"
    }
   ],
   "source": [
    "clf = DecisionTreeClassifier(random_state=0, criterion = 'gini')\n",
    "\n",
    "X = pd.DataFrame(enc.transform(X), \n",
    "                columns = ['age', 'income', 'student', 'credit_rating'])\n",
    "\n",
    "clf.fit(X, y)\n",
    "_ = plot_tree(clf, feature_names = ['age', 'income', 'student', 'credit_rating'])"
   ]
  },
  {
   "cell_type": "code",
   "execution_count": null,
   "id": "d417b7c4-422b-47be-b35f-5b9f2cff4786",
   "metadata": {},
   "outputs": [],
   "source": []
  },
  {
   "cell_type": "code",
   "execution_count": 15,
   "id": "ecc91573-7f29-43bf-abb8-50c937525d3e",
   "metadata": {},
   "outputs": [],
   "source": [
    "def get_overall_gini(df, attr, label, all_classes):\n",
    "    attrs = df[attr].unique()\n",
    "    df_rep = []\n",
    "    for i in attrs:\n",
    "        t = []\n",
    "        t.append(i)\n",
    "        t.append(df[df[attr] == i].shape[0])\n",
    "        t.append(df[df[attr] ==  i].shape[0] / df.shape[0])\n",
    "        \n",
    "        classes = df[df[attr] ==  i][label].unique()\n",
    "\n",
    "        p_sq = []\n",
    "\n",
    "        for j in all_classes:\n",
    "\n",
    "            if j in classes:\n",
    "                p = df[(df[attr] ==  i) & (df[label] == j)].shape[0] / \\\n",
    "                df[df[attr] ==  i].shape[0]\n",
    "            else:\n",
    "                p = 0\n",
    "            t.append(p)\n",
    "            p_sq.append(p**2)\n",
    "\n",
    "        t.append(str(1 - sum(p_sq))) # gini impurity coefficient\n",
    "\n",
    "        df_rep.append(t)\n",
    "        \n",
    "    df_rep = pd.DataFrame(data = df_rep, columns = ['attr', '#', 'p(attr)', 'p(no|attr)', 'p(yes|attr)', 'gini'])\n",
    "    l = []\n",
    "    for i in df_rep.iterrows():\n",
    "        l.append((float(i[1].loc['p(attr)']) *  float(i[1].loc['gini'])))\n",
    "    \n",
    "    return df_rep, sum(l)"
   ]
  },
  {
   "cell_type": "markdown",
   "id": "e3f3cbd9-58c2-4991-97d7-dd7e72ffd169",
   "metadata": {},
   "source": [
    "# Gini impurity left after we split on an attribute \n",
    "\n",
    "### Showing values one by one"
   ]
  },
  {
   "cell_type": "code",
   "execution_count": 16,
   "id": "fee01425-bcc9-4a49-8c9b-24d8c4710e2a",
   "metadata": {},
   "outputs": [
    {
     "name": "stdout",
     "output_type": "stream",
     "text": [
      "age \t 0.34285714285714286\n",
      "income \t 0.44047619047619047\n",
      "student \t 0.3673469387755103\n",
      "credit_rating \t 0.42857142857142855\n"
     ]
    }
   ],
   "source": [
    "all_classes = df['buys_computer'].unique()\n",
    "for i in ['age', 'income', 'student', 'credit_rating']:\n",
    "    rtn = get_overall_gini(df, i, 'buys_computer', all_classes)\n",
    "    print(i, '\\t', rtn[1])"
   ]
  },
  {
   "cell_type": "code",
   "execution_count": 17,
   "id": "5f07aff6-a970-4fe9-b16a-0391d17c26ed",
   "metadata": {},
   "outputs": [],
   "source": [
    "rtn = get_overall_gini(df, 'age', 'buys_computer', all_classes)"
   ]
  },
  {
   "cell_type": "markdown",
   "id": "b7d2f82c-c2dc-4749-be19-4e3161c010cc",
   "metadata": {},
   "source": [
    "# Next we would see where to split on the age attribute"
   ]
  },
  {
   "cell_type": "markdown",
   "id": "ab1989c7-d641-4ded-b24c-fb7204a26475",
   "metadata": {},
   "source": [
    "### In the table below, you are seeing how much gini impurity is there for records from each attribute. And we select that attribute which gives the minimum gini."
   ]
  },
  {
   "cell_type": "code",
   "execution_count": 18,
   "id": "785406a4-8773-4e70-abea-4e4ce672e386",
   "metadata": {},
   "outputs": [
    {
     "data": {
      "text/html": [
       "<div>\n",
       "<style scoped>\n",
       "    .dataframe tbody tr th:only-of-type {\n",
       "        vertical-align: middle;\n",
       "    }\n",
       "\n",
       "    .dataframe tbody tr th {\n",
       "        vertical-align: top;\n",
       "    }\n",
       "\n",
       "    .dataframe thead th {\n",
       "        text-align: right;\n",
       "    }\n",
       "</style>\n",
       "<table border=\"1\" class=\"dataframe\">\n",
       "  <thead>\n",
       "    <tr style=\"text-align: right;\">\n",
       "      <th></th>\n",
       "      <th>attr</th>\n",
       "      <th>#</th>\n",
       "      <th>p(attr)</th>\n",
       "      <th>p(no|attr)</th>\n",
       "      <th>p(yes|attr)</th>\n",
       "      <th>gini</th>\n",
       "    </tr>\n",
       "  </thead>\n",
       "  <tbody>\n",
       "    <tr>\n",
       "      <th>0</th>\n",
       "      <td>youth</td>\n",
       "      <td>5</td>\n",
       "      <td>0.357143</td>\n",
       "      <td>0.6</td>\n",
       "      <td>0.4</td>\n",
       "      <td>0.48</td>\n",
       "    </tr>\n",
       "    <tr>\n",
       "      <th>1</th>\n",
       "      <td>middle_aged</td>\n",
       "      <td>4</td>\n",
       "      <td>0.285714</td>\n",
       "      <td>0.0</td>\n",
       "      <td>1.0</td>\n",
       "      <td>0.0</td>\n",
       "    </tr>\n",
       "    <tr>\n",
       "      <th>2</th>\n",
       "      <td>senior</td>\n",
       "      <td>5</td>\n",
       "      <td>0.357143</td>\n",
       "      <td>0.4</td>\n",
       "      <td>0.6</td>\n",
       "      <td>0.48</td>\n",
       "    </tr>\n",
       "  </tbody>\n",
       "</table>\n",
       "</div>"
      ],
      "text/plain": [
       "          attr  #   p(attr)  p(no|attr)  p(yes|attr)  gini\n",
       "0        youth  5  0.357143         0.6          0.4  0.48\n",
       "1  middle_aged  4  0.285714         0.0          1.0   0.0\n",
       "2       senior  5  0.357143         0.4          0.6  0.48"
      ]
     },
     "execution_count": 18,
     "metadata": {},
     "output_type": "execute_result"
    }
   ],
   "source": [
    "rtn[0]"
   ]
  },
  {
   "cell_type": "markdown",
   "id": "0d63b2ce-ca50-4f83-b123-1c20efdc9b4f",
   "metadata": {},
   "source": [
    "# Splitting on age == middle_aged \n",
    "# And age != middle_aged"
   ]
  },
  {
   "cell_type": "markdown",
   "id": "631a8db5-83b6-444d-9896-f2c1ba7250e1",
   "metadata": {},
   "source": [
    "### Data for (age == middle_aged) goes on the left branch as seen in the decision tree above.\n",
    "### And data for (age != middle_aged) goes on the right branch."
   ]
  },
  {
   "cell_type": "code",
   "execution_count": 19,
   "id": "5d65b04a-338f-4cc0-9c32-54f0bb237368",
   "metadata": {},
   "outputs": [],
   "source": [
    "df_middle_aged = df[df['age'] == 'middle_aged']"
   ]
  },
  {
   "cell_type": "code",
   "execution_count": 20,
   "id": "f58eb1bc-dc21-4524-abb1-f06ecd6958e4",
   "metadata": {},
   "outputs": [
    {
     "data": {
      "text/html": [
       "<div>\n",
       "<style scoped>\n",
       "    .dataframe tbody tr th:only-of-type {\n",
       "        vertical-align: middle;\n",
       "    }\n",
       "\n",
       "    .dataframe tbody tr th {\n",
       "        vertical-align: top;\n",
       "    }\n",
       "\n",
       "    .dataframe thead th {\n",
       "        text-align: right;\n",
       "    }\n",
       "</style>\n",
       "<table border=\"1\" class=\"dataframe\">\n",
       "  <thead>\n",
       "    <tr style=\"text-align: right;\">\n",
       "      <th></th>\n",
       "      <th>RID</th>\n",
       "      <th>age</th>\n",
       "      <th>income</th>\n",
       "      <th>student</th>\n",
       "      <th>credit_rating</th>\n",
       "      <th>buys_computer</th>\n",
       "    </tr>\n",
       "  </thead>\n",
       "  <tbody>\n",
       "    <tr>\n",
       "      <th>2</th>\n",
       "      <td>3</td>\n",
       "      <td>middle_aged</td>\n",
       "      <td>high</td>\n",
       "      <td>no</td>\n",
       "      <td>fair</td>\n",
       "      <td>yes</td>\n",
       "    </tr>\n",
       "    <tr>\n",
       "      <th>6</th>\n",
       "      <td>7</td>\n",
       "      <td>middle_aged</td>\n",
       "      <td>low</td>\n",
       "      <td>yes</td>\n",
       "      <td>excellent</td>\n",
       "      <td>yes</td>\n",
       "    </tr>\n",
       "    <tr>\n",
       "      <th>11</th>\n",
       "      <td>12</td>\n",
       "      <td>middle_aged</td>\n",
       "      <td>medium</td>\n",
       "      <td>no</td>\n",
       "      <td>excellent</td>\n",
       "      <td>yes</td>\n",
       "    </tr>\n",
       "    <tr>\n",
       "      <th>12</th>\n",
       "      <td>13</td>\n",
       "      <td>middle_aged</td>\n",
       "      <td>high</td>\n",
       "      <td>yes</td>\n",
       "      <td>fair</td>\n",
       "      <td>yes</td>\n",
       "    </tr>\n",
       "  </tbody>\n",
       "</table>\n",
       "</div>"
      ],
      "text/plain": [
       "    RID          age  income student credit_rating buys_computer\n",
       "2     3  middle_aged    high      no          fair           yes\n",
       "6     7  middle_aged     low     yes     excellent           yes\n",
       "11   12  middle_aged  medium      no     excellent           yes\n",
       "12   13  middle_aged    high     yes          fair           yes"
      ]
     },
     "execution_count": 20,
     "metadata": {},
     "output_type": "execute_result"
    }
   ],
   "source": [
    "df_middle_aged"
   ]
  },
  {
   "cell_type": "code",
   "execution_count": 21,
   "id": "2177cbbb-9e50-4fb0-aa56-7be6af3ec71a",
   "metadata": {},
   "outputs": [
    {
     "name": "stdout",
     "output_type": "stream",
     "text": [
      "age 0.0\n",
      "income 0.0\n",
      "student 0.0\n",
      "credit_rating 0.0\n"
     ]
    }
   ],
   "source": [
    "all_classes = df['buys_computer'].unique()\n",
    "for i in ['age', 'income', 'student', 'credit_rating']:\n",
    "    rtn = get_overall_gini(df_middle_aged, 'age', 'buys_computer', all_classes)\n",
    "    print(i, rtn[1])"
   ]
  },
  {
   "cell_type": "code",
   "execution_count": 22,
   "id": "5d51a9da-f3dd-4170-bf14-898f1bd46c6b",
   "metadata": {},
   "outputs": [],
   "source": [
    "df_not_middle_aged = df[df['age'] != 'middle_aged']"
   ]
  },
  {
   "cell_type": "code",
   "execution_count": 23,
   "id": "69bb65f4-85f5-41dd-86d3-bf9af76df56f",
   "metadata": {},
   "outputs": [
    {
     "data": {
      "text/html": [
       "<div>\n",
       "<style scoped>\n",
       "    .dataframe tbody tr th:only-of-type {\n",
       "        vertical-align: middle;\n",
       "    }\n",
       "\n",
       "    .dataframe tbody tr th {\n",
       "        vertical-align: top;\n",
       "    }\n",
       "\n",
       "    .dataframe thead th {\n",
       "        text-align: right;\n",
       "    }\n",
       "</style>\n",
       "<table border=\"1\" class=\"dataframe\">\n",
       "  <thead>\n",
       "    <tr style=\"text-align: right;\">\n",
       "      <th></th>\n",
       "      <th>RID</th>\n",
       "      <th>age</th>\n",
       "      <th>income</th>\n",
       "      <th>student</th>\n",
       "      <th>credit_rating</th>\n",
       "      <th>buys_computer</th>\n",
       "    </tr>\n",
       "  </thead>\n",
       "  <tbody>\n",
       "    <tr>\n",
       "      <th>0</th>\n",
       "      <td>1</td>\n",
       "      <td>youth</td>\n",
       "      <td>high</td>\n",
       "      <td>no</td>\n",
       "      <td>fair</td>\n",
       "      <td>no</td>\n",
       "    </tr>\n",
       "    <tr>\n",
       "      <th>1</th>\n",
       "      <td>2</td>\n",
       "      <td>youth</td>\n",
       "      <td>high</td>\n",
       "      <td>no</td>\n",
       "      <td>excellent</td>\n",
       "      <td>no</td>\n",
       "    </tr>\n",
       "    <tr>\n",
       "      <th>3</th>\n",
       "      <td>4</td>\n",
       "      <td>senior</td>\n",
       "      <td>medium</td>\n",
       "      <td>no</td>\n",
       "      <td>fair</td>\n",
       "      <td>yes</td>\n",
       "    </tr>\n",
       "    <tr>\n",
       "      <th>4</th>\n",
       "      <td>5</td>\n",
       "      <td>senior</td>\n",
       "      <td>low</td>\n",
       "      <td>yes</td>\n",
       "      <td>fair</td>\n",
       "      <td>yes</td>\n",
       "    </tr>\n",
       "    <tr>\n",
       "      <th>5</th>\n",
       "      <td>6</td>\n",
       "      <td>senior</td>\n",
       "      <td>low</td>\n",
       "      <td>yes</td>\n",
       "      <td>excellent</td>\n",
       "      <td>no</td>\n",
       "    </tr>\n",
       "    <tr>\n",
       "      <th>7</th>\n",
       "      <td>8</td>\n",
       "      <td>youth</td>\n",
       "      <td>medium</td>\n",
       "      <td>no</td>\n",
       "      <td>fair</td>\n",
       "      <td>no</td>\n",
       "    </tr>\n",
       "    <tr>\n",
       "      <th>8</th>\n",
       "      <td>9</td>\n",
       "      <td>youth</td>\n",
       "      <td>low</td>\n",
       "      <td>yes</td>\n",
       "      <td>fair</td>\n",
       "      <td>yes</td>\n",
       "    </tr>\n",
       "    <tr>\n",
       "      <th>9</th>\n",
       "      <td>10</td>\n",
       "      <td>senior</td>\n",
       "      <td>medium</td>\n",
       "      <td>yes</td>\n",
       "      <td>fair</td>\n",
       "      <td>yes</td>\n",
       "    </tr>\n",
       "    <tr>\n",
       "      <th>10</th>\n",
       "      <td>11</td>\n",
       "      <td>youth</td>\n",
       "      <td>medium</td>\n",
       "      <td>yes</td>\n",
       "      <td>excellent</td>\n",
       "      <td>yes</td>\n",
       "    </tr>\n",
       "    <tr>\n",
       "      <th>13</th>\n",
       "      <td>14</td>\n",
       "      <td>senior</td>\n",
       "      <td>medium</td>\n",
       "      <td>no</td>\n",
       "      <td>excellent</td>\n",
       "      <td>no</td>\n",
       "    </tr>\n",
       "  </tbody>\n",
       "</table>\n",
       "</div>"
      ],
      "text/plain": [
       "    RID     age  income student credit_rating buys_computer\n",
       "0     1   youth    high      no          fair            no\n",
       "1     2   youth    high      no     excellent            no\n",
       "3     4  senior  medium      no          fair           yes\n",
       "4     5  senior     low     yes          fair           yes\n",
       "5     6  senior     low     yes     excellent            no\n",
       "7     8   youth  medium      no          fair            no\n",
       "8     9   youth     low     yes          fair           yes\n",
       "9    10  senior  medium     yes          fair           yes\n",
       "10   11   youth  medium     yes     excellent           yes\n",
       "13   14  senior  medium      no     excellent            no"
      ]
     },
     "execution_count": 23,
     "metadata": {},
     "output_type": "execute_result"
    }
   ],
   "source": [
    "df_not_middle_aged"
   ]
  },
  {
   "cell_type": "markdown",
   "id": "3d0ac781-3a31-46af-96d7-2f51702223cb",
   "metadata": {},
   "source": [
    "# Gini impurity left if we split on an attribute (viz. age, income, student, credit_rating)"
   ]
  },
  {
   "cell_type": "code",
   "execution_count": 24,
   "id": "863f40e5-1549-46a8-8efe-34116efee588",
   "metadata": {},
   "outputs": [
    {
     "name": "stdout",
     "output_type": "stream",
     "text": [
      "age \t 0.48\n",
      "income \t 0.3733333333333333\n",
      "student \t 0.31999999999999984\n",
      "credit_rating \t 0.4166666666666667\n"
     ]
    }
   ],
   "source": [
    "all_classes = df['buys_computer'].unique()\n",
    "for i in ['age', 'income', 'student', 'credit_rating']:\n",
    "    rtn = get_overall_gini(df_not_middle_aged, i, 'buys_computer', all_classes)\n",
    "    print(i, '\\t', rtn[1])"
   ]
  },
  {
   "cell_type": "code",
   "execution_count": 25,
   "id": "55768177-7411-4ac1-82e9-04a94d5ee525",
   "metadata": {},
   "outputs": [],
   "source": [
    "rtn = get_overall_gini(df_not_middle_aged, 'student', 'buys_computer', all_classes)"
   ]
  },
  {
   "cell_type": "code",
   "execution_count": 26,
   "id": "ab7528fb-0609-4b67-90f5-f25a141f4960",
   "metadata": {},
   "outputs": [
    {
     "data": {
      "text/html": [
       "<div>\n",
       "<style scoped>\n",
       "    .dataframe tbody tr th:only-of-type {\n",
       "        vertical-align: middle;\n",
       "    }\n",
       "\n",
       "    .dataframe tbody tr th {\n",
       "        vertical-align: top;\n",
       "    }\n",
       "\n",
       "    .dataframe thead th {\n",
       "        text-align: right;\n",
       "    }\n",
       "</style>\n",
       "<table border=\"1\" class=\"dataframe\">\n",
       "  <thead>\n",
       "    <tr style=\"text-align: right;\">\n",
       "      <th></th>\n",
       "      <th>attr</th>\n",
       "      <th>#</th>\n",
       "      <th>p(attr)</th>\n",
       "      <th>p(no|attr)</th>\n",
       "      <th>p(yes|attr)</th>\n",
       "      <th>gini</th>\n",
       "    </tr>\n",
       "  </thead>\n",
       "  <tbody>\n",
       "    <tr>\n",
       "      <th>0</th>\n",
       "      <td>no</td>\n",
       "      <td>5</td>\n",
       "      <td>0.5</td>\n",
       "      <td>0.8</td>\n",
       "      <td>0.2</td>\n",
       "      <td>0.31999999999999984</td>\n",
       "    </tr>\n",
       "    <tr>\n",
       "      <th>1</th>\n",
       "      <td>yes</td>\n",
       "      <td>5</td>\n",
       "      <td>0.5</td>\n",
       "      <td>0.2</td>\n",
       "      <td>0.8</td>\n",
       "      <td>0.31999999999999984</td>\n",
       "    </tr>\n",
       "  </tbody>\n",
       "</table>\n",
       "</div>"
      ],
      "text/plain": [
       "  attr  #  p(attr)  p(no|attr)  p(yes|attr)                 gini\n",
       "0   no  5      0.5         0.8          0.2  0.31999999999999984\n",
       "1  yes  5      0.5         0.2          0.8  0.31999999999999984"
      ]
     },
     "execution_count": 26,
     "metadata": {},
     "output_type": "execute_result"
    }
   ],
   "source": [
    "rtn[0]"
   ]
  },
  {
   "cell_type": "markdown",
   "id": "c59ac6f2-d920-4ff5-9e8b-b9271244d02a",
   "metadata": {},
   "source": [
    "# Decision tree when age != middle_aged"
   ]
  },
  {
   "cell_type": "code",
   "execution_count": 27,
   "id": "2931643f-30a2-447f-9cfa-75cc81e4ae5c",
   "metadata": {},
   "outputs": [
    {
     "name": "stdout",
     "output_type": "stream",
     "text": [
      "[array(['senior', 'youth'], dtype=object), array(['high', 'low', 'medium'], dtype=object), array(['no', 'yes'], dtype=object), array(['excellent', 'fair'], dtype=object)]\n"
     ]
    },
    {
     "data": {
      "image/png": "[encoded data removed]",
      "text/plain": [
       "<Figure size 640x480 with 1 Axes>"
      ]
     },
     "metadata": {},
     "output_type": "display_data"
    }
   ],
   "source": [
    "clf = DecisionTreeClassifier(random_state=0, criterion = 'gini')\n",
    "\n",
    "X = df_not_middle_aged[['age', 'income', 'student', 'credit_rating']]\n",
    "y = df_not_middle_aged['buys_computer']\n",
    "\n",
    "enc = OrdinalEncoder()\n",
    "X = enc.fit_transform(X)\n",
    "\n",
    "print(enc.categories_)\n",
    "\n",
    "clf.fit(X, y)\n",
    "_ = plot_tree(clf, feature_names = ['age', 'income', 'student', 'credit_rating'])"
   ]
  },
  {
   "cell_type": "markdown",
   "id": "dfef184a-9885-4fe8-a924-6365f71ad745",
   "metadata": {},
   "source": [
    "# age != middle_aged and student == 0 or no"
   ]
  },
  {
   "cell_type": "code",
   "execution_count": 28,
   "id": "412eea12-cbec-4168-9e11-e86dfb4cfb19",
   "metadata": {},
   "outputs": [],
   "source": [
    "df_temp = df[(df['age'] != 'middle_aged') & (df['student'] == 'no')]"
   ]
  },
  {
   "cell_type": "code",
   "execution_count": 29,
   "id": "38133501-d12d-453f-a55c-707d5760dc02",
   "metadata": {},
   "outputs": [
    {
     "data": {
      "text/html": [
       "<div>\n",
       "<style scoped>\n",
       "    .dataframe tbody tr th:only-of-type {\n",
       "        vertical-align: middle;\n",
       "    }\n",
       "\n",
       "    .dataframe tbody tr th {\n",
       "        vertical-align: top;\n",
       "    }\n",
       "\n",
       "    .dataframe thead th {\n",
       "        text-align: right;\n",
       "    }\n",
       "</style>\n",
       "<table border=\"1\" class=\"dataframe\">\n",
       "  <thead>\n",
       "    <tr style=\"text-align: right;\">\n",
       "      <th></th>\n",
       "      <th>RID</th>\n",
       "      <th>age</th>\n",
       "      <th>income</th>\n",
       "      <th>student</th>\n",
       "      <th>credit_rating</th>\n",
       "      <th>buys_computer</th>\n",
       "    </tr>\n",
       "  </thead>\n",
       "  <tbody>\n",
       "    <tr>\n",
       "      <th>0</th>\n",
       "      <td>1</td>\n",
       "      <td>youth</td>\n",
       "      <td>high</td>\n",
       "      <td>no</td>\n",
       "      <td>fair</td>\n",
       "      <td>no</td>\n",
       "    </tr>\n",
       "    <tr>\n",
       "      <th>1</th>\n",
       "      <td>2</td>\n",
       "      <td>youth</td>\n",
       "      <td>high</td>\n",
       "      <td>no</td>\n",
       "      <td>excellent</td>\n",
       "      <td>no</td>\n",
       "    </tr>\n",
       "    <tr>\n",
       "      <th>3</th>\n",
       "      <td>4</td>\n",
       "      <td>senior</td>\n",
       "      <td>medium</td>\n",
       "      <td>no</td>\n",
       "      <td>fair</td>\n",
       "      <td>yes</td>\n",
       "    </tr>\n",
       "    <tr>\n",
       "      <th>7</th>\n",
       "      <td>8</td>\n",
       "      <td>youth</td>\n",
       "      <td>medium</td>\n",
       "      <td>no</td>\n",
       "      <td>fair</td>\n",
       "      <td>no</td>\n",
       "    </tr>\n",
       "    <tr>\n",
       "      <th>13</th>\n",
       "      <td>14</td>\n",
       "      <td>senior</td>\n",
       "      <td>medium</td>\n",
       "      <td>no</td>\n",
       "      <td>excellent</td>\n",
       "      <td>no</td>\n",
       "    </tr>\n",
       "  </tbody>\n",
       "</table>\n",
       "</div>"
      ],
      "text/plain": [
       "    RID     age  income student credit_rating buys_computer\n",
       "0     1   youth    high      no          fair            no\n",
       "1     2   youth    high      no     excellent            no\n",
       "3     4  senior  medium      no          fair           yes\n",
       "7     8   youth  medium      no          fair            no\n",
       "13   14  senior  medium      no     excellent            no"
      ]
     },
     "execution_count": 29,
     "metadata": {},
     "output_type": "execute_result"
    }
   ],
   "source": [
    "df_temp"
   ]
  },
  {
   "cell_type": "code",
   "execution_count": 32,
   "id": "538efd9f-97c7-4bb5-be01-2f7da90a5a79",
   "metadata": {},
   "outputs": [
    {
     "name": "stdout",
     "output_type": "stream",
     "text": [
      "age \t 0.2\n",
      "income \t 0.26666666666666666\n",
      "student \t 0.31999999999999984\n",
      "credit_rating \t 0.26666666666666666\n"
     ]
    }
   ],
   "source": [
    "for i in ['age', 'income', 'student', 'credit_rating']:\n",
    "    rtn = get_overall_gini(df_temp, i, 'buys_computer', all_classes)\n",
    "    print(i, '\\t', rtn[1])"
   ]
  },
  {
   "cell_type": "markdown",
   "id": "f6caa322-f89d-49ef-88bc-4295e79660bd",
   "metadata": {},
   "source": [
    "### We see next split on this branch would be on 'age' where the impurity is the least."
   ]
  },
  {
   "cell_type": "code",
   "execution_count": 31,
   "id": "51960fec-7dbe-4487-a63a-1a1136585be1",
   "metadata": {},
   "outputs": [
    {
     "name": "stdout",
     "output_type": "stream",
     "text": [
      "[array(['senior', 'youth'], dtype=object), array(['high', 'medium'], dtype=object), array(['no'], dtype=object), array(['excellent', 'fair'], dtype=object)]\n"
     ]
    },
    {
     "data": {
      "image/png": "[encoded data removed]",
      "text/plain": [
       "<Figure size 640x480 with 1 Axes>"
      ]
     },
     "metadata": {},
     "output_type": "display_data"
    }
   ],
   "source": [
    "clf = DecisionTreeClassifier(random_state=0, criterion = 'gini')\n",
    "\n",
    "X = df_temp[['age', 'income', 'student', 'credit_rating']]\n",
    "y = df_temp['buys_computer']\n",
    "\n",
    "enc = OrdinalEncoder()\n",
    "X = enc.fit_transform(X)\n",
    "\n",
    "print(enc.categories_)\n",
    "\n",
    "clf.fit(X, y)\n",
    "_ = plot_tree(clf, feature_names = ['age', 'income', 'student', 'credit_rating'])"
   ]
  },
  {
   "cell_type": "markdown",
   "id": "900810f8-7a08-4574-8e60-1903c4855d15",
   "metadata": {},
   "source": [
    "# age != middle_aged and student == 1 or yes"
   ]
  },
  {
   "cell_type": "code",
   "execution_count": 184,
   "id": "ae0e8b29-f451-48c2-9905-68d972bdc9e7",
   "metadata": {},
   "outputs": [],
   "source": [
    "df_temp = df[(df['age'] != 'middle_aged') & (df['student'] == 'yes')]"
   ]
  },
  {
   "cell_type": "code",
   "execution_count": 185,
   "id": "60278359-2ad6-43f6-bdfc-54a05ae04611",
   "metadata": {},
   "outputs": [
    {
     "data": {
      "text/html": [
       "<div>\n",
       "<style scoped>\n",
       "    .dataframe tbody tr th:only-of-type {\n",
       "        vertical-align: middle;\n",
       "    }\n",
       "\n",
       "    .dataframe tbody tr th {\n",
       "        vertical-align: top;\n",
       "    }\n",
       "\n",
       "    .dataframe thead th {\n",
       "        text-align: right;\n",
       "    }\n",
       "</style>\n",
       "<table border=\"1\" class=\"dataframe\">\n",
       "  <thead>\n",
       "    <tr style=\"text-align: right;\">\n",
       "      <th></th>\n",
       "      <th>RID</th>\n",
       "      <th>age</th>\n",
       "      <th>income</th>\n",
       "      <th>student</th>\n",
       "      <th>credit_rating</th>\n",
       "      <th>buys_computer</th>\n",
       "    </tr>\n",
       "  </thead>\n",
       "  <tbody>\n",
       "    <tr>\n",
       "      <th>4</th>\n",
       "      <td>5</td>\n",
       "      <td>senior</td>\n",
       "      <td>low</td>\n",
       "      <td>yes</td>\n",
       "      <td>fair</td>\n",
       "      <td>yes</td>\n",
       "    </tr>\n",
       "    <tr>\n",
       "      <th>5</th>\n",
       "      <td>6</td>\n",
       "      <td>senior</td>\n",
       "      <td>low</td>\n",
       "      <td>yes</td>\n",
       "      <td>excellent</td>\n",
       "      <td>no</td>\n",
       "    </tr>\n",
       "    <tr>\n",
       "      <th>8</th>\n",
       "      <td>9</td>\n",
       "      <td>youth</td>\n",
       "      <td>low</td>\n",
       "      <td>yes</td>\n",
       "      <td>fair</td>\n",
       "      <td>yes</td>\n",
       "    </tr>\n",
       "    <tr>\n",
       "      <th>9</th>\n",
       "      <td>10</td>\n",
       "      <td>senior</td>\n",
       "      <td>medium</td>\n",
       "      <td>yes</td>\n",
       "      <td>fair</td>\n",
       "      <td>yes</td>\n",
       "    </tr>\n",
       "    <tr>\n",
       "      <th>10</th>\n",
       "      <td>11</td>\n",
       "      <td>youth</td>\n",
       "      <td>medium</td>\n",
       "      <td>yes</td>\n",
       "      <td>excellent</td>\n",
       "      <td>yes</td>\n",
       "    </tr>\n",
       "  </tbody>\n",
       "</table>\n",
       "</div>"
      ],
      "text/plain": [
       "    RID     age  income student credit_rating buys_computer\n",
       "4     5  senior     low     yes          fair           yes\n",
       "5     6  senior     low     yes     excellent            no\n",
       "8     9   youth     low     yes          fair           yes\n",
       "9    10  senior  medium     yes          fair           yes\n",
       "10   11   youth  medium     yes     excellent           yes"
      ]
     },
     "execution_count": 185,
     "metadata": {},
     "output_type": "execute_result"
    }
   ],
   "source": [
    "df_temp"
   ]
  },
  {
   "cell_type": "code",
   "execution_count": 186,
   "id": "0074ee34-6af3-4d33-b759-0804dfcebe9d",
   "metadata": {},
   "outputs": [
    {
     "data": {
      "text/html": [
       "<div>\n",
       "<style scoped>\n",
       "    .dataframe tbody tr th:only-of-type {\n",
       "        vertical-align: middle;\n",
       "    }\n",
       "\n",
       "    .dataframe tbody tr th {\n",
       "        vertical-align: top;\n",
       "    }\n",
       "\n",
       "    .dataframe thead th {\n",
       "        text-align: right;\n",
       "    }\n",
       "</style>\n",
       "<table border=\"1\" class=\"dataframe\">\n",
       "  <thead>\n",
       "    <tr style=\"text-align: right;\">\n",
       "      <th></th>\n",
       "      <th>RID</th>\n",
       "      <th>age</th>\n",
       "      <th>income</th>\n",
       "      <th>student</th>\n",
       "      <th>credit_rating</th>\n",
       "      <th>buys_computer</th>\n",
       "    </tr>\n",
       "  </thead>\n",
       "  <tbody>\n",
       "    <tr>\n",
       "      <th>4</th>\n",
       "      <td>5</td>\n",
       "      <td>senior</td>\n",
       "      <td>low</td>\n",
       "      <td>yes</td>\n",
       "      <td>fair</td>\n",
       "      <td>yes</td>\n",
       "    </tr>\n",
       "    <tr>\n",
       "      <th>5</th>\n",
       "      <td>6</td>\n",
       "      <td>senior</td>\n",
       "      <td>low</td>\n",
       "      <td>yes</td>\n",
       "      <td>excellent</td>\n",
       "      <td>no</td>\n",
       "    </tr>\n",
       "    <tr>\n",
       "      <th>8</th>\n",
       "      <td>9</td>\n",
       "      <td>youth</td>\n",
       "      <td>low</td>\n",
       "      <td>yes</td>\n",
       "      <td>fair</td>\n",
       "      <td>yes</td>\n",
       "    </tr>\n",
       "    <tr>\n",
       "      <th>9</th>\n",
       "      <td>10</td>\n",
       "      <td>senior</td>\n",
       "      <td>medium</td>\n",
       "      <td>yes</td>\n",
       "      <td>fair</td>\n",
       "      <td>yes</td>\n",
       "    </tr>\n",
       "    <tr>\n",
       "      <th>10</th>\n",
       "      <td>11</td>\n",
       "      <td>youth</td>\n",
       "      <td>medium</td>\n",
       "      <td>yes</td>\n",
       "      <td>excellent</td>\n",
       "      <td>yes</td>\n",
       "    </tr>\n",
       "  </tbody>\n",
       "</table>\n",
       "</div>"
      ],
      "text/plain": [
       "    RID     age  income student credit_rating buys_computer\n",
       "4     5  senior     low     yes          fair           yes\n",
       "5     6  senior     low     yes     excellent            no\n",
       "8     9   youth     low     yes          fair           yes\n",
       "9    10  senior  medium     yes          fair           yes\n",
       "10   11   youth  medium     yes     excellent           yes"
      ]
     },
     "execution_count": 186,
     "metadata": {},
     "output_type": "execute_result"
    }
   ],
   "source": [
    "df_temp"
   ]
  },
  {
   "cell_type": "code",
   "execution_count": 187,
   "id": "3593a872-e82d-4ea5-8e09-be5248b70eb3",
   "metadata": {},
   "outputs": [
    {
     "name": "stdout",
     "output_type": "stream",
     "text": [
      "age 0.26666666666666666\n",
      "income 0.26666666666666666\n",
      "student 0.31999999999999984\n",
      "credit_rating 0.2\n"
     ]
    }
   ],
   "source": [
    "for i in ['age', 'income', 'student', 'credit_rating']:\n",
    "    rtn = get_overall_gini(df_temp, i, 'buys_computer', all_classes)\n",
    "    print(i, rtn[1])"
   ]
  },
  {
   "cell_type": "markdown",
   "id": "3840aa42-b5f5-41e2-a6c0-04c9beabdb0c",
   "metadata": {},
   "source": [
    "### We see next split on this branch would be on 'credit' where the impurity is the least."
   ]
  },
  {
   "cell_type": "code",
   "execution_count": 188,
   "id": "3ecf7216-f8bc-4882-bb34-a8d54a6750a9",
   "metadata": {},
   "outputs": [
    {
     "name": "stdout",
     "output_type": "stream",
     "text": [
      "[array(['senior', 'youth'], dtype=object), array(['low', 'medium'], dtype=object), array(['yes'], dtype=object), array(['excellent', 'fair'], dtype=object)]\n"
     ]
    },
    {
     "data": {
      "image/png": "[encoded data removed]",
      "text/plain": [
       "<Figure size 640x480 with 1 Axes>"
      ]
     },
     "metadata": {},
     "output_type": "display_data"
    }
   ],
   "source": [
    "clf = DecisionTreeClassifier(random_state=0, criterion = 'gini')\n",
    "\n",
    "X = df_temp[['age', 'income', 'student', 'credit_rating']]\n",
    "y = df_temp['buys_computer']\n",
    "\n",
    "enc = OrdinalEncoder()\n",
    "X = enc.fit_transform(X)\n",
    "\n",
    "print(enc.categories_)\n",
    "\n",
    "clf.fit(X, y)\n",
    "_ = plot_tree(clf, feature_names = ['age', 'income', 'student', 'credit_rating'])"
   ]
  },
  {
   "cell_type": "code",
   "execution_count": null,
   "id": "4d0bf3c6-2d5e-41b5-9d10-aa97e331cc3b",
   "metadata": {},
   "outputs": [],
   "source": []
  }
 ],
 "metadata": {
  "kernelspec": {
   "display_name": "Python 3 (ipykernel)",
   "language": "python",
   "name": "python3"
  },
  "language_info": {
   "codemirror_mode": {
    "name": "ipython",
    "version": 3
   },
   "file_extension": ".py",
   "mimetype": "text/x-python",
   "name": "python",
   "nbconvert_exporter": "python",
   "pygments_lexer": "ipython3",
   "version": "3.9.13"
  }
 },
 "nbformat": 4,
 "nbformat_minor": 5
}
