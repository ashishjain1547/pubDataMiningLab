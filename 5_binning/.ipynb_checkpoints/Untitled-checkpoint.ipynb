{
 "cells": [
  {
   "cell_type": "code",
   "execution_count": 3,
   "id": "adb53abf-52bd-4f7c-8fc2-322453679198",
   "metadata": {},
   "outputs": [],
   "source": [
    "import pandas as pd"
   ]
  },
  {
   "cell_type": "code",
   "execution_count": 4,
   "id": "6670c4fe-ea66-49de-b9b4-0bbfbec9c9b5",
   "metadata": {},
   "outputs": [],
   "source": [
    "l = [5, 10, 11, 13, 15, 35, 50, 55, 72, 92, 204, 215]"
   ]
  },
  {
   "cell_type": "code",
   "execution_count": 5,
   "id": "cb094a8a-4ee7-4009-b84e-c7eefda60685",
   "metadata": {},
   "outputs": [],
   "source": [
    "s = pd.Series(l)"
   ]
  },
  {
   "cell_type": "code",
   "execution_count": 6,
   "id": "2490f6e9-a6f1-4504-a82a-0144486e01e2",
   "metadata": {},
   "outputs": [
    {
     "data": {
      "text/plain": [
       "12"
      ]
     },
     "execution_count": 6,
     "metadata": {},
     "output_type": "execute_result"
    }
   ],
   "source": [
    "s.nunique()"
   ]
  },
  {
   "cell_type": "code",
   "execution_count": 7,
   "id": "301e3495-a345-48c6-87ba-55a38f6e396e",
   "metadata": {},
   "outputs": [
    {
     "data": {
      "text/plain": [
       "0       (4.79, 57.5]\n",
       "1       (4.79, 57.5]\n",
       "2       (4.79, 57.5]\n",
       "3       (4.79, 57.5]\n",
       "4       (4.79, 57.5]\n",
       "5       (4.79, 57.5]\n",
       "6       (4.79, 57.5]\n",
       "7       (4.79, 57.5]\n",
       "8      (57.5, 110.0]\n",
       "9      (57.5, 110.0]\n",
       "10    (162.5, 215.0]\n",
       "11    (162.5, 215.0]\n",
       "dtype: category\n",
       "Categories (4, interval[float64, right]): [(4.79, 57.5] < (57.5, 110.0] < (110.0, 162.5] < (162.5, 215.0]]"
      ]
     },
     "execution_count": 7,
     "metadata": {},
     "output_type": "execute_result"
    }
   ],
   "source": [
    "pd.cut(s, 4) # Equal width binning"
   ]
  },
  {
   "cell_type": "code",
   "execution_count": 8,
   "id": "9f08cb4f-f495-4f33-bd35-942b30485797",
   "metadata": {},
   "outputs": [
    {
     "name": "stdout",
     "output_type": "stream",
     "text": [
      "70.21\n",
      "70\n",
      "70\n"
     ]
    }
   ],
   "source": [
    "print(75-4.79)\n",
    "print(145-75)\n",
    "print(215-145)"
   ]
  },
  {
   "cell_type": "code",
   "execution_count": 9,
   "id": "2ea7c194-aa3a-4f32-aa2e-cbb70efd3be3",
   "metadata": {},
   "outputs": [
    {
     "data": {
      "text/plain": [
       "0     (4.999, 12.5]\n",
       "1     (4.999, 12.5]\n",
       "2     (4.999, 12.5]\n",
       "3      (12.5, 42.5]\n",
       "4      (12.5, 42.5]\n",
       "5      (12.5, 42.5]\n",
       "6      (42.5, 77.0]\n",
       "7      (42.5, 77.0]\n",
       "8      (42.5, 77.0]\n",
       "9     (77.0, 215.0]\n",
       "10    (77.0, 215.0]\n",
       "11    (77.0, 215.0]\n",
       "dtype: category\n",
       "Categories (4, interval[float64, right]): [(4.999, 12.5] < (12.5, 42.5] < (42.5, 77.0] < (77.0, 215.0]]"
      ]
     },
     "execution_count": 9,
     "metadata": {},
     "output_type": "execute_result"
    }
   ],
   "source": [
    "pd.qcut(s, 4) # Equal frequency binning"
   ]
  },
  {
   "cell_type": "code",
   "execution_count": 13,
   "id": "96f5a148-b11c-4540-ac65-efcb43924a17",
   "metadata": {},
   "outputs": [],
   "source": [
    "from collections import Counter\n",
    "frequencies_counter = Counter(pd.qcut(s, 4))"
   ]
  },
  {
   "cell_type": "code",
   "execution_count": 14,
   "id": "300ed811-3299-4d91-a546-cd2b0bac4577",
   "metadata": {},
   "outputs": [
    {
     "data": {
      "text/plain": [
       "Counter({Interval(4.999, 12.5, closed='right'): 3,\n",
       "         Interval(12.5, 42.5, closed='right'): 3,\n",
       "         Interval(42.5, 77.0, closed='right'): 3,\n",
       "         Interval(77.0, 215.0, closed='right'): 3})"
      ]
     },
     "execution_count": 14,
     "metadata": {},
     "output_type": "execute_result"
    }
   ],
   "source": [
    "frequencies_counter"
   ]
  },
  {
   "cell_type": "raw",
   "id": "6ea33e4a-5a68-4708-87e8-f6a25df4bfc6",
   "metadata": {},
   "source": [
    "(4.999, 12.5]: Range exlusive of 4.999 and starting from there. Also range inclusive of 12.5 and ending there."
   ]
  },
  {
   "cell_type": "code",
   "execution_count": 10,
   "id": "59b1f4fb-7515-43c3-a64b-b6c1b03b0218",
   "metadata": {},
   "outputs": [],
   "source": [
    "import statistics as st"
   ]
  },
  {
   "cell_type": "code",
   "execution_count": 12,
   "id": "cf6c1a04-588c-4bea-b758-a355e8d3ca3f",
   "metadata": {},
   "outputs": [
    {
     "name": "stdout",
     "output_type": "stream",
     "text": [
      "[11.5, 42.5, 87.0]\n"
     ]
    }
   ],
   "source": [
    "print(st.quantiles(data = l, n = 4)) "
   ]
  },
  {
   "cell_type": "code",
   "execution_count": 15,
   "id": "d3d5d7c2-a20b-44ca-a236-c29d9c0f570e",
   "metadata": {},
   "outputs": [],
   "source": [
    "import numpy as np"
   ]
  },
  {
   "cell_type": "code",
   "execution_count": 18,
   "id": "ad4542af-6bec-4e1d-80f2-d852047bd522",
   "metadata": {},
   "outputs": [],
   "source": [
    "quantiles=np.percentile(l, [25,50,75])"
   ]
  },
  {
   "cell_type": "code",
   "execution_count": 19,
   "id": "e29af0cd-f6ed-4687-8eb0-cda2d8c511ed",
   "metadata": {},
   "outputs": [
    {
     "data": {
      "text/plain": [
       "array([12.5, 42.5, 77. ])"
      ]
     },
     "execution_count": 19,
     "metadata": {},
     "output_type": "execute_result"
    }
   ],
   "source": [
    "quantiles"
   ]
  },
  {
   "cell_type": "code",
   "execution_count": null,
   "id": "fef5e0d9-8152-42bf-954b-a3f59ffeb4ec",
   "metadata": {},
   "outputs": [],
   "source": []
  }
 ],
 "metadata": {
  "kernelspec": {
   "display_name": "Python 3 (ipykernel)",
   "language": "python",
   "name": "python3"
  },
  "language_info": {
   "codemirror_mode": {
    "name": "ipython",
    "version": 3
   },
   "file_extension": ".py",
   "mimetype": "text/x-python",
   "name": "python",
   "nbconvert_exporter": "python",
   "pygments_lexer": "ipython3",
   "version": "3.9.13"
  }
 },
 "nbformat": 4,
 "nbformat_minor": 5
}
