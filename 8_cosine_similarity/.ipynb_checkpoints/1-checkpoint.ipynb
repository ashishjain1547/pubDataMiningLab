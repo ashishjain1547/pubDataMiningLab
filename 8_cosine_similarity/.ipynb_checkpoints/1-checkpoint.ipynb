{
 "cells": [
  {
   "cell_type": "code",
   "execution_count": 1,
   "id": "eb1d9d7d-8950-43c6-a452-75927fee120e",
   "metadata": {},
   "outputs": [],
   "source": [
    "from sklearn.metrics.pairwise import cosine_similarity"
   ]
  },
  {
   "cell_type": "code",
   "execution_count": 2,
   "id": "cb456c2a-1ecc-41e6-8064-ec2f265016d3",
   "metadata": {},
   "outputs": [],
   "source": [
    "Sent1 = \"I bought a new car today.\"\n",
    "Sent2 = \"I already have a new car.\""
   ]
  },
  {
   "cell_type": "code",
   "execution_count": 3,
   "id": "c79815ca-9540-4616-a190-2daae1de32b4",
   "metadata": {},
   "outputs": [],
   "source": [
    "from sklearn.feature_extraction.text import CountVectorizer"
   ]
  },
  {
   "cell_type": "code",
   "execution_count": 4,
   "id": "a90eb88e-0843-4abe-ab6d-e83dff348360",
   "metadata": {},
   "outputs": [],
   "source": [
    "corpus = [Sent1, Sent2]"
   ]
  },
  {
   "cell_type": "code",
   "execution_count": 5,
   "id": "0d6e2272-4bf4-4f81-b660-09fc93a2e638",
   "metadata": {},
   "outputs": [],
   "source": [
    "vectorizer = CountVectorizer()"
   ]
  },
  {
   "cell_type": "code",
   "execution_count": 6,
   "id": "d26e6007-d8b9-45fe-80e4-37f10cd92efb",
   "metadata": {},
   "outputs": [],
   "source": [
    "X = vectorizer.fit_transform(corpus)"
   ]
  },
  {
   "cell_type": "code",
   "execution_count": 8,
   "id": "a9fb50c2-fe42-4db2-bcc0-708d0dca4d4e",
   "metadata": {},
   "outputs": [
    {
     "data": {
      "text/plain": [
       "array(['already', 'bought', 'car', 'have', 'new', 'today'], dtype=object)"
      ]
     },
     "execution_count": 8,
     "metadata": {},
     "output_type": "execute_result"
    }
   ],
   "source": [
    "vectorizer.get_feature_names_out()"
   ]
  },
  {
   "cell_type": "markdown",
   "id": "94e7e894-d8ce-434d-9e0e-80d1f7fb05c5",
   "metadata": {},
   "source": [
    "# 'I' is removed from vectorization step because of a process called stop word removal."
   ]
  },
  {
   "cell_type": "code",
   "execution_count": 7,
   "id": "ea1bd621-1289-411c-892c-bfba4a1468aa",
   "metadata": {},
   "outputs": [
    {
     "name": "stdout",
     "output_type": "stream",
     "text": [
      "[[0 1 1 0 1 1]\n",
      " [1 0 1 1 1 0]]\n"
     ]
    }
   ],
   "source": [
    "print(X.toarray())"
   ]
  },
  {
   "cell_type": "code",
   "execution_count": 9,
   "id": "31fc2ef1-ea5e-4916-8f94-bebf2445e956",
   "metadata": {},
   "outputs": [
    {
     "data": {
      "text/plain": [
       "array([[1. , 0.5],\n",
       "       [0.5, 1. ]])"
      ]
     },
     "execution_count": 9,
     "metadata": {},
     "output_type": "execute_result"
    }
   ],
   "source": [
    "cosine_similarity(X)"
   ]
  },
  {
   "cell_type": "raw",
   "id": "066c6df6-879c-4b1e-9fec-f377d213016a",
   "metadata": {},
   "source": [
    "How are pairs created in the output of above statment?\n",
    "\n",
    "sent1 and sent1\n",
    "sent1 and sent2\n",
    "sent2 and sent1\n",
    "sent2 and sent2"
   ]
  },
  {
   "cell_type": "code",
   "execution_count": null,
   "id": "e0075427-72b8-48ff-b30b-bb62d399bfc6",
   "metadata": {},
   "outputs": [],
   "source": []
  }
 ],
 "metadata": {
  "kernelspec": {
   "display_name": "Python 3 (ipykernel)",
   "language": "python",
   "name": "python3"
  },
  "language_info": {
   "codemirror_mode": {
    "name": "ipython",
    "version": 3
   },
   "file_extension": ".py",
   "mimetype": "text/x-python",
   "name": "python",
   "nbconvert_exporter": "python",
   "pygments_lexer": "ipython3",
   "version": "3.9.13"
  }
 },
 "nbformat": 4,
 "nbformat_minor": 5
}
