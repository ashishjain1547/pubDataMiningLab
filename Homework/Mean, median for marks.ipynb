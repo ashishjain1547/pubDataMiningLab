{
 "cells": [
  {
   "cell_type": "code",
   "execution_count": 1,
   "id": "23738c60",
   "metadata": {},
   "outputs": [],
   "source": [
    "import pandas as pd"
   ]
  },
  {
   "cell_type": "code",
   "execution_count": 6,
   "id": "b594478b",
   "metadata": {},
   "outputs": [
    {
     "name": "stdout",
     "output_type": "stream",
     "text": [
      "85.83333333333333\n"
     ]
    }
   ],
   "source": [
    "#To calculate mean of marks of 7th and 8th grade\n",
    "mean_marks=df[(df['class']==7)|(df['class']==8)]['marks'].mean()\n",
    "\n",
    "print( mean_marks)"
   ]
  },
  {
   "cell_type": "code",
   "execution_count": 7,
   "id": "b49329d9",
   "metadata": {},
   "outputs": [
    {
     "name": "stdout",
     "output_type": "stream",
     "text": [
      "82.5\n"
     ]
    }
   ],
   "source": [
    "#To calculate of mean of marks in math\n",
    "mean_math_marks=df[df['subject']=='math']['marks'].mean()\n",
    "print(mean_math_marks)"
   ]
  },
  {
   "cell_type": "code",
   "execution_count": 8,
   "id": "17e43e02",
   "metadata": {},
   "outputs": [
    {
     "name": "stdout",
     "output_type": "stream",
     "text": [
      "87.5\n"
     ]
    }
   ],
   "source": [
    "#To calculate Median marks of student in 7th and 8th grade\n",
    "median_marks=df[(df['class']==7)|(df['class']==8)]['marks'].median()\n",
    "print(median_marks)"
   ]
  },
  {
   "cell_type": "code",
   "execution_count": 9,
   "id": "5c9a6970",
   "metadata": {},
   "outputs": [
    {
     "name": "stdout",
     "output_type": "stream",
     "text": [
      "82.5\n"
     ]
    }
   ],
   "source": [
    "#To calculate of median of marks in math\n",
    "median_math_marks=df[df['subject']=='math']['marks'].median()\n",
    "print(median_math_marks)"
   ]
  },
  {
   "cell_type": "code",
   "execution_count": 11,
   "id": "3708d4e7",
   "metadata": {},
   "outputs": [
    {
     "name": "stdout",
     "output_type": "stream",
     "text": [
      "Minimum marks in maths 80\n",
      "\n",
      "Maximum marks in maths 85\n"
     ]
    }
   ],
   "source": [
    "#To calculate min and max marks of student in math\n",
    "min_marks=df[df['subject']=='math']['marks'].min()\n",
    "print('Minimum marks in maths',min_marks)\n",
    "max_marks=df[df['subject']=='math']['marks'].max()\n",
    "print('\\nMaximum marks in maths',max_marks)"
   ]
  },
  {
   "cell_type": "code",
   "execution_count": null,
   "id": "66dc908c",
   "metadata": {},
   "outputs": [],
   "source": []
  }
 ],
 "metadata": {
  "kernelspec": {
   "display_name": "Python 3 (ipykernel)",
   "language": "python",
   "name": "python3"
  },
  "language_info": {
   "codemirror_mode": {
    "name": "ipython",
    "version": 3
   },
   "file_extension": ".py",
   "mimetype": "text/x-python",
   "name": "python",
   "nbconvert_exporter": "python",
   "pygments_lexer": "ipython3",
   "version": "3.9.7"
  }
 },
 "nbformat": 4,
 "nbformat_minor": 5
}
