{
 "cells": [
  {
   "cell_type": "code",
   "execution_count": 1,
   "id": "0963f3ac-f73d-4675-8aaf-ee7eeab04c27",
   "metadata": {},
   "outputs": [],
   "source": [
    "from sklearn.metrics.pairwise import manhattan_distances"
   ]
  },
  {
   "cell_type": "code",
   "execution_count": 3,
   "id": "e08fb986-f611-4c76-971b-06562066369c",
   "metadata": {},
   "outputs": [
    {
     "data": {
      "text/plain": [
       "array([[0.]])"
      ]
     },
     "execution_count": 3,
     "metadata": {},
     "output_type": "execute_result"
    }
   ],
   "source": [
    "manhattan_distances([[3]], [[3]])"
   ]
  },
  {
   "cell_type": "code",
   "execution_count": 4,
   "id": "f54400d1-51bb-45fa-9958-7e9331d36414",
   "metadata": {},
   "outputs": [
    {
     "data": {
      "text/plain": [
       "array([[1.]])"
      ]
     },
     "execution_count": 4,
     "metadata": {},
     "output_type": "execute_result"
    }
   ],
   "source": [
    "manhattan_distances([[3]], [[2]])"
   ]
  },
  {
   "cell_type": "code",
   "execution_count": 5,
   "id": "15187a1f-b5dd-472d-99bd-1babcddc1292",
   "metadata": {},
   "outputs": [
    {
     "data": {
      "text/plain": [
       "array([[1.]])"
      ]
     },
     "execution_count": 5,
     "metadata": {},
     "output_type": "execute_result"
    }
   ],
   "source": [
    "manhattan_distances([[2]], [[3]])"
   ]
  },
  {
   "cell_type": "code",
   "execution_count": 6,
   "id": "91872aab-3531-4042-8961-207c945edf51",
   "metadata": {},
   "outputs": [
    {
     "data": {
      "text/plain": [
       "array([[0., 2.],\n",
       "       [4., 4.]])"
      ]
     },
     "execution_count": 6,
     "metadata": {},
     "output_type": "execute_result"
    }
   ],
   "source": [
    "manhattan_distances([[1, 2], [3, 4]], [[1, 2], [0, 3]])"
   ]
  },
  {
   "cell_type": "raw",
   "id": "69be4589-492d-4d90-bf1f-e45edaa6399b",
   "metadata": {},
   "source": [
    "How many pairs exist in the above statement?\n",
    "Ans:\n",
    "\n",
    "[1, 2] and [1, 2]\n",
    "[1, 2] and [0, 3]\n",
    "[3, 4] and [1, 2]\n",
    "[3, 4] and [0, 3]"
   ]
  },
  {
   "cell_type": "code",
   "execution_count": 7,
   "id": "f1d1eb64-9b0f-4f4a-85e1-376f76734ca0",
   "metadata": {},
   "outputs": [
    {
     "data": {
      "text/plain": [
       "array([[1.]])"
      ]
     },
     "execution_count": 7,
     "metadata": {},
     "output_type": "execute_result"
    }
   ],
   "source": [
    "A = (2, 4)\n",
    "B = (1, 4)\n",
    "manhattan_distances([A], [B])"
   ]
  },
  {
   "cell_type": "code",
   "execution_count": null,
   "id": "c5f85d27-08db-478d-96cf-eddd79383ce1",
   "metadata": {},
   "outputs": [],
   "source": []
  }
 ],
 "metadata": {
  "kernelspec": {
   "display_name": "Python 3 (ipykernel)",
   "language": "python",
   "name": "python3"
  },
  "language_info": {
   "codemirror_mode": {
    "name": "ipython",
    "version": 3
   },
   "file_extension": ".py",
   "mimetype": "text/x-python",
   "name": "python",
   "nbconvert_exporter": "python",
   "pygments_lexer": "ipython3",
   "version": "3.9.13"
  }
 },
 "nbformat": 4,
 "nbformat_minor": 5
}
