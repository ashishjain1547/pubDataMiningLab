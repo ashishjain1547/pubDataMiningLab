{
 "cells": [
  {
   "cell_type": "code",
   "execution_count": 18,
   "id": "178d2837-dbe8-4fa6-9ac9-5278c1f07b64",
   "metadata": {},
   "outputs": [],
   "source": [
    "import math\n",
    "import statistics\n",
    "from sklearn.metrics.pairwise import manhattan_distances"
   ]
  },
  {
   "cell_type": "code",
   "execution_count": 19,
   "id": "fda7009b-2ffe-4b18-83a1-02f633b62872",
   "metadata": {},
   "outputs": [],
   "source": [
    "A = (2, 4)\n",
    "B = (1, 3)"
   ]
  },
  {
   "cell_type": "code",
   "execution_count": 20,
   "id": "ee882ab8-f6a3-4e54-9a2f-7b03b83c36ec",
   "metadata": {},
   "outputs": [],
   "source": [
    "ed = math.sqrt(pow(2-1, 2) + pow(4-3, 2))"
   ]
  },
  {
   "cell_type": "code",
   "execution_count": 21,
   "id": "6d98ef3d-69e6-49a7-bd49-b506aa876cd7",
   "metadata": {},
   "outputs": [
    {
     "data": {
      "text/plain": [
       "1.4142135623730951"
      ]
     },
     "execution_count": 21,
     "metadata": {},
     "output_type": "execute_result"
    }
   ],
   "source": [
    "ed"
   ]
  },
  {
   "cell_type": "code",
   "execution_count": 22,
   "id": "575d96f8-8d7b-4696-9505-6c0b19ea201f",
   "metadata": {},
   "outputs": [
    {
     "data": {
      "text/plain": [
       "1.4142135623730951"
      ]
     },
     "execution_count": 22,
     "metadata": {},
     "output_type": "execute_result"
    }
   ],
   "source": [
    "math.dist(A, B)"
   ]
  },
  {
   "cell_type": "code",
   "execution_count": 23,
   "id": "7ea74a3a-c82b-45af-a2a9-fcdad5b09e72",
   "metadata": {},
   "outputs": [
    {
     "data": {
      "text/plain": [
       "array([[2.]])"
      ]
     },
     "execution_count": 23,
     "metadata": {},
     "output_type": "execute_result"
    }
   ],
   "source": [
    "manhattan_distances([A], [B])"
   ]
  },
  {
   "cell_type": "code",
   "execution_count": 24,
   "id": "be55fdfd-e2e3-4754-bcf3-4b39b2d1548e",
   "metadata": {},
   "outputs": [],
   "source": [
    "A = (2, 7, 5)\n",
    "B = (4, 8, 9)\n",
    "\n",
    "ed = math.sqrt(pow(2 - 4, 2) + pow(7 - 8,2) + pow(5-9, 2))"
   ]
  },
  {
   "cell_type": "code",
   "execution_count": 25,
   "id": "05453304-bfa8-460b-9b11-3eaa7dddaba4",
   "metadata": {},
   "outputs": [
    {
     "data": {
      "text/plain": [
       "4.58257569495584"
      ]
     },
     "execution_count": 25,
     "metadata": {},
     "output_type": "execute_result"
    }
   ],
   "source": [
    "math.dist(A, B)"
   ]
  },
  {
   "cell_type": "code",
   "execution_count": 26,
   "id": "c1f2b1f6-5f25-4e0c-93ad-b7f7087d1b0a",
   "metadata": {},
   "outputs": [
    {
     "data": {
      "text/plain": [
       "array([[7.]])"
      ]
     },
     "execution_count": 26,
     "metadata": {},
     "output_type": "execute_result"
    }
   ],
   "source": [
    "manhattan_distances([A], [B])"
   ]
  },
  {
   "cell_type": "code",
   "execution_count": 27,
   "id": "dcc14ccc-6914-4a99-91ee-14c6fb40a02e",
   "metadata": {},
   "outputs": [],
   "source": [
    "A = (2, 4)\n",
    "B = (1, 4)"
   ]
  },
  {
   "cell_type": "code",
   "execution_count": 28,
   "id": "1c2ed779-b748-4b49-96f6-22661e9bbefd",
   "metadata": {},
   "outputs": [
    {
     "data": {
      "text/plain": [
       "1.0"
      ]
     },
     "execution_count": 28,
     "metadata": {},
     "output_type": "execute_result"
    }
   ],
   "source": [
    "math.dist(A,B)"
   ]
  },
  {
   "cell_type": "code",
   "execution_count": 29,
   "id": "46f7e298-1d58-41d0-a683-98f73cf81b30",
   "metadata": {},
   "outputs": [
    {
     "data": {
      "text/plain": [
       "array([[1.]])"
      ]
     },
     "execution_count": 29,
     "metadata": {},
     "output_type": "execute_result"
    }
   ],
   "source": [
    "manhattan_distances([A], [B])"
   ]
  },
  {
   "cell_type": "code",
   "execution_count": null,
   "id": "29566916-5a72-4918-9dc6-f40380bf6bdc",
   "metadata": {},
   "outputs": [],
   "source": []
  }
 ],
 "metadata": {
  "kernelspec": {
   "display_name": "Python 3 (ipykernel)",
   "language": "python",
   "name": "python3"
  },
  "language_info": {
   "codemirror_mode": {
    "name": "ipython",
    "version": 3
   },
   "file_extension": ".py",
   "mimetype": "text/x-python",
   "name": "python",
   "nbconvert_exporter": "python",
   "pygments_lexer": "ipython3",
   "version": "3.9.13"
  }
 },
 "nbformat": 4,
 "nbformat_minor": 5
}
