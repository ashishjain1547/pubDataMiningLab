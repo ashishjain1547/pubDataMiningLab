{
 "cells": [
  {
   "cell_type": "code",
   "execution_count": 1,
   "id": "744423ef-474d-45a0-96c1-251b00a7113e",
   "metadata": {},
   "outputs": [],
   "source": [
    "import statistics as st"
   ]
  },
  {
   "cell_type": "code",
   "execution_count": 2,
   "id": "d510c2a2-e6bc-41b0-82d0-a958804f26e5",
   "metadata": {},
   "outputs": [],
   "source": [
    "import pandas as pd"
   ]
  },
  {
   "cell_type": "code",
   "execution_count": 3,
   "id": "b4a4cde8-9e90-4b1c-907e-452ea629658e",
   "metadata": {},
   "outputs": [],
   "source": [
    "df = pd.read_csv('marks.csv')"
   ]
  },
  {
   "cell_type": "code",
   "execution_count": 4,
   "id": "21f5bd66-2468-4da8-a184-9b02843727f4",
   "metadata": {},
   "outputs": [
    {
     "data": {
      "text/html": [
       "<div>\n",
       "<style scoped>\n",
       "    .dataframe tbody tr th:only-of-type {\n",
       "        vertical-align: middle;\n",
       "    }\n",
       "\n",
       "    .dataframe tbody tr th {\n",
       "        vertical-align: top;\n",
       "    }\n",
       "\n",
       "    .dataframe thead th {\n",
       "        text-align: right;\n",
       "    }\n",
       "</style>\n",
       "<table border=\"1\" class=\"dataframe\">\n",
       "  <thead>\n",
       "    <tr style=\"text-align: right;\">\n",
       "      <th></th>\n",
       "      <th>subject</th>\n",
       "      <th>marks</th>\n",
       "      <th>mean</th>\n",
       "      <th>std</th>\n",
       "    </tr>\n",
       "  </thead>\n",
       "  <tbody>\n",
       "    <tr>\n",
       "      <th>0</th>\n",
       "      <td>Sub1</td>\n",
       "      <td>70</td>\n",
       "      <td>60</td>\n",
       "      <td>15</td>\n",
       "    </tr>\n",
       "    <tr>\n",
       "      <th>1</th>\n",
       "      <td>Sub2</td>\n",
       "      <td>72</td>\n",
       "      <td>68</td>\n",
       "      <td>6</td>\n",
       "    </tr>\n",
       "  </tbody>\n",
       "</table>\n",
       "</div>"
      ],
      "text/plain": [
       "  subject  marks  mean  std\n",
       "0    Sub1     70    60   15\n",
       "1    Sub2     72    68    6"
      ]
     },
     "execution_count": 4,
     "metadata": {},
     "output_type": "execute_result"
    }
   ],
   "source": [
    "df"
   ]
  },
  {
   "cell_type": "raw",
   "id": "b6fcd2ec-0fa4-4eff-b17c-efc86a301c0e",
   "metadata": {},
   "source": [
    "class statistics.NormalDist(mu=0.0, sigma=1.0)\n",
    "\n",
    "Returns a new NormalDist object where mu represents the arithmetic mean and sigma represents the standard deviation."
   ]
  },
  {
   "cell_type": "raw",
   "id": "34d1ab2a-8605-436b-8bd5-357934b41f3f",
   "metadata": {},
   "source": [
    "zscore = (x - mean) / std"
   ]
  },
  {
   "cell_type": "markdown",
   "id": "d6ee3766-8e41-4bbd-a545-4382027202c7",
   "metadata": {},
   "source": [
    "### Assuming there are 100K records in this kind of format. Then you would not go to fill z-score for these records. You will need something automated."
   ]
  },
  {
   "cell_type": "code",
   "execution_count": 7,
   "id": "601727d3-106f-4290-9d16-39fe79e36d36",
   "metadata": {},
   "outputs": [],
   "source": [
    "def get_zscore(in_row):\n",
    "    return (in_row['marks'] - in_row['mean']) / in_row['std']\n",
    "\n",
    "df['zscore'] = df.apply(get_zscore, axis = 1)"
   ]
  },
  {
   "cell_type": "code",
   "execution_count": 8,
   "id": "7f4b2c71-fa75-4a8e-a257-7f190a77a87b",
   "metadata": {},
   "outputs": [
    {
     "data": {
      "text/html": [
       "<div>\n",
       "<style scoped>\n",
       "    .dataframe tbody tr th:only-of-type {\n",
       "        vertical-align: middle;\n",
       "    }\n",
       "\n",
       "    .dataframe tbody tr th {\n",
       "        vertical-align: top;\n",
       "    }\n",
       "\n",
       "    .dataframe thead th {\n",
       "        text-align: right;\n",
       "    }\n",
       "</style>\n",
       "<table border=\"1\" class=\"dataframe\">\n",
       "  <thead>\n",
       "    <tr style=\"text-align: right;\">\n",
       "      <th></th>\n",
       "      <th>subject</th>\n",
       "      <th>marks</th>\n",
       "      <th>mean</th>\n",
       "      <th>std</th>\n",
       "      <th>zscore</th>\n",
       "    </tr>\n",
       "  </thead>\n",
       "  <tbody>\n",
       "    <tr>\n",
       "      <th>0</th>\n",
       "      <td>Sub1</td>\n",
       "      <td>70</td>\n",
       "      <td>60</td>\n",
       "      <td>15</td>\n",
       "      <td>0.666667</td>\n",
       "    </tr>\n",
       "    <tr>\n",
       "      <th>1</th>\n",
       "      <td>Sub2</td>\n",
       "      <td>72</td>\n",
       "      <td>68</td>\n",
       "      <td>6</td>\n",
       "      <td>0.666667</td>\n",
       "    </tr>\n",
       "  </tbody>\n",
       "</table>\n",
       "</div>"
      ],
      "text/plain": [
       "  subject  marks  mean  std    zscore\n",
       "0    Sub1     70    60   15  0.666667\n",
       "1    Sub2     72    68    6  0.666667"
      ]
     },
     "execution_count": 8,
     "metadata": {},
     "output_type": "execute_result"
    }
   ],
   "source": [
    "df"
   ]
  },
  {
   "cell_type": "code",
   "execution_count": 13,
   "id": "72655641-c383-41ca-a4af-9890573cedf2",
   "metadata": {},
   "outputs": [
    {
     "name": "stdout",
     "output_type": "stream",
     "text": [
      "0.6666666666666666\n",
      "0.6666666666666666\n"
     ]
    }
   ],
   "source": [
    "# How many std. away the data point is form the mean?\n",
    "# This is given by zscore.\n",
    "print((70-60)/15)\n",
    "print((72-68)/6)"
   ]
  },
  {
   "cell_type": "code",
   "execution_count": 10,
   "id": "36b61b84-107a-481b-9698-1f8ea37ea4ec",
   "metadata": {},
   "outputs": [
    {
     "data": {
      "text/plain": [
       "0.6666666666666666"
      ]
     },
     "execution_count": 10,
     "metadata": {},
     "output_type": "execute_result"
    }
   ],
   "source": []
  },
  {
   "cell_type": "code",
   "execution_count": null,
   "id": "9a343a7a-8a77-4524-a5a5-59c2fed55322",
   "metadata": {},
   "outputs": [],
   "source": []
  }
 ],
 "metadata": {
  "kernelspec": {
   "display_name": "py310",
   "language": "python",
   "name": "py310"
  },
  "language_info": {
   "codemirror_mode": {
    "name": "ipython",
    "version": 3
   },
   "file_extension": ".py",
   "mimetype": "text/x-python",
   "name": "python",
   "nbconvert_exporter": "python",
   "pygments_lexer": "ipython3",
   "version": "3.10.10"
  }
 },
 "nbformat": 4,
 "nbformat_minor": 5
}
