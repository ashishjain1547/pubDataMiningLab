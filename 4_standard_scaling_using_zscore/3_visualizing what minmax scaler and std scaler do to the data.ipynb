{
 "cells": [
  {
   "cell_type": "code",
   "execution_count": 16,
   "id": "786135bc-d68b-47cc-8517-c93d840f1776",
   "metadata": {},
   "outputs": [],
   "source": [
    "import pandas as pd\n",
    "import matplotlib.pyplot as plt\n",
    "import numpy as np\n"
   ]
  },
  {
   "cell_type": "code",
   "execution_count": 44,
   "id": "ff9edde4-bc5d-4732-8d83-bf4c389d38e3",
   "metadata": {},
   "outputs": [],
   "source": [
    "df = pd.read_csv('../2_scatterplot and boxplot using matplotlib/bodyfat.csv')"
   ]
  },
  {
   "cell_type": "code",
   "execution_count": 45,
   "id": "88887817-aaa0-40af-a782-9910de29ec70",
   "metadata": {},
   "outputs": [],
   "source": [
    "df = df[['Age', 'BodyFat']]"
   ]
  },
  {
   "cell_type": "code",
   "execution_count": 34,
   "id": "5624849f-d503-47ec-8096-559a8957298c",
   "metadata": {},
   "outputs": [],
   "source": [
    "from sklearn.preprocessing import StandardScaler\n",
    "scaler = StandardScaler()\n",
    "data = scaler.fit_transform(df)"
   ]
  },
  {
   "cell_type": "code",
   "execution_count": 36,
   "id": "64ad3d00-26f9-415c-b29e-aa8589873cc3",
   "metadata": {},
   "outputs": [],
   "source": [
    "df_std = pd.DataFrame(data.round(2), columns = ['age_std', 'fat_std'])"
   ]
  },
  {
   "cell_type": "code",
   "execution_count": 37,
   "id": "35c482d7-028e-4030-bea8-bcedf9245348",
   "metadata": {},
   "outputs": [],
   "source": [
    "from sklearn.preprocessing import MinMaxScaler\n",
    "scaler = MinMaxScaler()\n",
    "\n",
    "df_minmax = scaler.fit_transform(df)\n",
    "df_minmax = pd.DataFrame(df_minmax.round(2),\n",
    "                            columns = ['age_minmax', 'fat_minmax'])"
   ]
  },
  {
   "cell_type": "code",
   "execution_count": 38,
   "id": "e2c04880-bac0-4586-b7af-d515607f8187",
   "metadata": {},
   "outputs": [],
   "source": [
    "df = pd.concat([df, df_std, df_minmax], axis = 1)"
   ]
  },
  {
   "cell_type": "code",
   "execution_count": 39,
   "id": "a32101e0-e3c8-40c5-a28b-eb94949fedb7",
   "metadata": {},
   "outputs": [
    {
     "data": {
      "text/html": [
       "<div>\n",
       "<style scoped>\n",
       "    .dataframe tbody tr th:only-of-type {\n",
       "        vertical-align: middle;\n",
       "    }\n",
       "\n",
       "    .dataframe tbody tr th {\n",
       "        vertical-align: top;\n",
       "    }\n",
       "\n",
       "    .dataframe thead th {\n",
       "        text-align: right;\n",
       "    }\n",
       "</style>\n",
       "<table border=\"1\" class=\"dataframe\">\n",
       "  <thead>\n",
       "    <tr style=\"text-align: right;\">\n",
       "      <th></th>\n",
       "      <th>Age</th>\n",
       "      <th>BodyFat</th>\n",
       "      <th>age_std</th>\n",
       "      <th>fat_std</th>\n",
       "      <th>age_minmax</th>\n",
       "      <th>fat_minmax</th>\n",
       "    </tr>\n",
       "  </thead>\n",
       "  <tbody>\n",
       "    <tr>\n",
       "      <th>0</th>\n",
       "      <td>23</td>\n",
       "      <td>12.3</td>\n",
       "      <td>-1.74</td>\n",
       "      <td>-0.82</td>\n",
       "      <td>0.02</td>\n",
       "      <td>0.26</td>\n",
       "    </tr>\n",
       "    <tr>\n",
       "      <th>1</th>\n",
       "      <td>22</td>\n",
       "      <td>6.1</td>\n",
       "      <td>-1.82</td>\n",
       "      <td>-1.56</td>\n",
       "      <td>0.00</td>\n",
       "      <td>0.13</td>\n",
       "    </tr>\n",
       "    <tr>\n",
       "      <th>2</th>\n",
       "      <td>22</td>\n",
       "      <td>25.3</td>\n",
       "      <td>-1.82</td>\n",
       "      <td>0.74</td>\n",
       "      <td>0.00</td>\n",
       "      <td>0.53</td>\n",
       "    </tr>\n",
       "    <tr>\n",
       "      <th>3</th>\n",
       "      <td>26</td>\n",
       "      <td>10.4</td>\n",
       "      <td>-1.50</td>\n",
       "      <td>-1.05</td>\n",
       "      <td>0.07</td>\n",
       "      <td>0.22</td>\n",
       "    </tr>\n",
       "    <tr>\n",
       "      <th>4</th>\n",
       "      <td>24</td>\n",
       "      <td>28.7</td>\n",
       "      <td>-1.66</td>\n",
       "      <td>1.14</td>\n",
       "      <td>0.03</td>\n",
       "      <td>0.60</td>\n",
       "    </tr>\n",
       "    <tr>\n",
       "      <th>...</th>\n",
       "      <td>...</td>\n",
       "      <td>...</td>\n",
       "      <td>...</td>\n",
       "      <td>...</td>\n",
       "      <td>...</td>\n",
       "      <td>...</td>\n",
       "    </tr>\n",
       "    <tr>\n",
       "      <th>247</th>\n",
       "      <td>70</td>\n",
       "      <td>11.0</td>\n",
       "      <td>2.00</td>\n",
       "      <td>-0.98</td>\n",
       "      <td>0.81</td>\n",
       "      <td>0.23</td>\n",
       "    </tr>\n",
       "    <tr>\n",
       "      <th>248</th>\n",
       "      <td>72</td>\n",
       "      <td>33.6</td>\n",
       "      <td>2.16</td>\n",
       "      <td>1.73</td>\n",
       "      <td>0.85</td>\n",
       "      <td>0.71</td>\n",
       "    </tr>\n",
       "    <tr>\n",
       "      <th>249</th>\n",
       "      <td>72</td>\n",
       "      <td>29.3</td>\n",
       "      <td>2.16</td>\n",
       "      <td>1.22</td>\n",
       "      <td>0.85</td>\n",
       "      <td>0.62</td>\n",
       "    </tr>\n",
       "    <tr>\n",
       "      <th>250</th>\n",
       "      <td>72</td>\n",
       "      <td>26.0</td>\n",
       "      <td>2.16</td>\n",
       "      <td>0.82</td>\n",
       "      <td>0.85</td>\n",
       "      <td>0.55</td>\n",
       "    </tr>\n",
       "    <tr>\n",
       "      <th>251</th>\n",
       "      <td>74</td>\n",
       "      <td>31.9</td>\n",
       "      <td>2.31</td>\n",
       "      <td>1.53</td>\n",
       "      <td>0.88</td>\n",
       "      <td>0.67</td>\n",
       "    </tr>\n",
       "  </tbody>\n",
       "</table>\n",
       "<p>252 rows × 6 columns</p>\n",
       "</div>"
      ],
      "text/plain": [
       "     Age  BodyFat  age_std  fat_std  age_minmax  fat_minmax\n",
       "0     23     12.3    -1.74    -0.82        0.02        0.26\n",
       "1     22      6.1    -1.82    -1.56        0.00        0.13\n",
       "2     22     25.3    -1.82     0.74        0.00        0.53\n",
       "3     26     10.4    -1.50    -1.05        0.07        0.22\n",
       "4     24     28.7    -1.66     1.14        0.03        0.60\n",
       "..   ...      ...      ...      ...         ...         ...\n",
       "247   70     11.0     2.00    -0.98        0.81        0.23\n",
       "248   72     33.6     2.16     1.73        0.85        0.71\n",
       "249   72     29.3     2.16     1.22        0.85        0.62\n",
       "250   72     26.0     2.16     0.82        0.85        0.55\n",
       "251   74     31.9     2.31     1.53        0.88        0.67\n",
       "\n",
       "[252 rows x 6 columns]"
      ]
     },
     "execution_count": 39,
     "metadata": {},
     "output_type": "execute_result"
    }
   ],
   "source": [
    "df"
   ]
  },
  {
   "cell_type": "code",
   "execution_count": 43,
   "id": "858cdcce-622b-4c91-89b5-4e4e839d85ad",
   "metadata": {},
   "outputs": [
    {
     "data": {
      "image/png": "[encoded data removed]",
      "text/plain": [
       "<Figure size 640x480 with 1 Axes>"
      ]
     },
     "metadata": {},
     "output_type": "display_data"
    }
   ],
   "source": [
    "plt.hist(df['Age'])\n",
    "plt.show() "
   ]
  },
  {
   "cell_type": "code",
   "execution_count": 41,
   "id": "524a7bbf-64d4-425a-aa95-6ef316259038",
   "metadata": {},
   "outputs": [
    {
     "data": {
      "image/png": "[encoded data removed]",
      "text/plain": [
       "<Figure size 640x480 with 1 Axes>"
      ]
     },
     "metadata": {},
     "output_type": "display_data"
    }
   ],
   "source": [
    "plt.hist(df['age_std'])\n",
    "plt.show() "
   ]
  },
  {
   "cell_type": "code",
   "execution_count": 42,
   "id": "7ed826ca-b8e0-4170-9a60-e628036d9935",
   "metadata": {},
   "outputs": [
    {
     "data": {
      "image/png": "[encoded data removed]",
      "text/plain": [
       "<Figure size 640x480 with 1 Axes>"
      ]
     },
     "metadata": {},
     "output_type": "display_data"
    }
   ],
   "source": [
    "plt.hist(df['age_minmax'])\n",
    "plt.show() "
   ]
  },
  {
   "cell_type": "code",
   "execution_count": null,
   "id": "068fb595-0aca-4dba-a1bf-c024680783c4",
   "metadata": {},
   "outputs": [],
   "source": []
  },
  {
   "cell_type": "code",
   "execution_count": null,
   "id": "0504fbd5-58e0-4d0a-a361-75cabcc4834f",
   "metadata": {},
   "outputs": [],
   "source": []
  },
  {
   "cell_type": "code",
   "execution_count": null,
   "id": "d05f4576-deaa-4dc4-bad2-c84459a6d348",
   "metadata": {},
   "outputs": [],
   "source": []
  }
 ],
 "metadata": {
  "kernelspec": {
   "display_name": "Python 3 (ipykernel)",
   "language": "python",
   "name": "python3"
  },
  "language_info": {
   "codemirror_mode": {
    "name": "ipython",
    "version": 3
   },
   "file_extension": ".py",
   "mimetype": "text/x-python",
   "name": "python",
   "nbconvert_exporter": "python",
   "pygments_lexer": "ipython3",
   "version": "3.9.13"
  }
 },
 "nbformat": 4,
 "nbformat_minor": 5
}
