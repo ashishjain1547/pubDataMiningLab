{
 "cells": [
  {
   "cell_type": "code",
   "execution_count": 1,
   "id": "8c8fa8b0-295b-4a7f-b131-322055d58f20",
   "metadata": {},
   "outputs": [],
   "source": [
    "import pandas as pd\n",
    "import statsmodels as sm"
   ]
  },
  {
   "cell_type": "code",
   "execution_count": 2,
   "id": "941eaee7-4b4c-45e7-8bdb-db90c741cf3e",
   "metadata": {},
   "outputs": [],
   "source": [
    "df = pd.read_csv('student_marks.csv')"
   ]
  },
  {
   "cell_type": "code",
   "execution_count": 3,
   "id": "b6695cc2-f194-4275-80ff-acf2c3bd2a7c",
   "metadata": {},
   "outputs": [
    {
     "data": {
      "text/html": [
       "<div>\n",
       "<style scoped>\n",
       "    .dataframe tbody tr th:only-of-type {\n",
       "        vertical-align: middle;\n",
       "    }\n",
       "\n",
       "    .dataframe tbody tr th {\n",
       "        vertical-align: top;\n",
       "    }\n",
       "\n",
       "    .dataframe thead th {\n",
       "        text-align: right;\n",
       "    }\n",
       "</style>\n",
       "<table border=\"1\" class=\"dataframe\">\n",
       "  <thead>\n",
       "    <tr style=\"text-align: right;\">\n",
       "      <th></th>\n",
       "      <th>Student</th>\n",
       "      <th>Marks1</th>\n",
       "      <th>Marks2</th>\n",
       "      <th>Marks3</th>\n",
       "    </tr>\n",
       "  </thead>\n",
       "  <tbody>\n",
       "    <tr>\n",
       "      <th>0</th>\n",
       "      <td>Jim</td>\n",
       "      <td>280</td>\n",
       "      <td>70</td>\n",
       "      <td>60</td>\n",
       "    </tr>\n",
       "    <tr>\n",
       "      <th>1</th>\n",
       "      <td>Jack</td>\n",
       "      <td>200</td>\n",
       "      <td>60</td>\n",
       "      <td>55</td>\n",
       "    </tr>\n",
       "    <tr>\n",
       "      <th>2</th>\n",
       "      <td>Jones</td>\n",
       "      <td>270</td>\n",
       "      <td>40</td>\n",
       "      <td>30</td>\n",
       "    </tr>\n",
       "    <tr>\n",
       "      <th>3</th>\n",
       "      <td>Harshitha</td>\n",
       "      <td>250</td>\n",
       "      <td>55</td>\n",
       "      <td>46</td>\n",
       "    </tr>\n",
       "    <tr>\n",
       "      <th>4</th>\n",
       "      <td>Yaju</td>\n",
       "      <td>260</td>\n",
       "      <td>54</td>\n",
       "      <td>45</td>\n",
       "    </tr>\n",
       "    <tr>\n",
       "      <th>5</th>\n",
       "      <td>Sahaj</td>\n",
       "      <td>230</td>\n",
       "      <td>55</td>\n",
       "      <td>35</td>\n",
       "    </tr>\n",
       "  </tbody>\n",
       "</table>\n",
       "</div>"
      ],
      "text/plain": [
       "     Student  Marks1  Marks2  Marks3\n",
       "0        Jim     280      70      60\n",
       "1       Jack     200      60      55\n",
       "2      Jones     270      40      30\n",
       "3  Harshitha     250      55      46\n",
       "4       Yaju     260      54      45\n",
       "5      Sahaj     230      55      35"
      ]
     },
     "execution_count": 3,
     "metadata": {},
     "output_type": "execute_result"
    }
   ],
   "source": [
    "df"
   ]
  },
  {
   "cell_type": "code",
   "execution_count": 4,
   "id": "4c1789fe-e55d-48be-ad25-ea5eed686484",
   "metadata": {},
   "outputs": [
    {
     "data": {
      "text/plain": [
       "count      6.000000\n",
       "mean     248.333333\n",
       "std       29.268869\n",
       "min      200.000000\n",
       "25%      235.000000\n",
       "50%      255.000000\n",
       "75%      267.500000\n",
       "max      280.000000\n",
       "Name: Marks1, dtype: float64"
      ]
     },
     "execution_count": 4,
     "metadata": {},
     "output_type": "execute_result"
    }
   ],
   "source": [
    "# Short summary\n",
    "df['Marks1'].describe()"
   ]
  },
  {
   "cell_type": "code",
   "execution_count": 5,
   "id": "5ce19bf4-ceab-4538-8e78-8b6762fe8aad",
   "metadata": {},
   "outputs": [],
   "source": [
    "import statsmodels.stats.descriptivestats as ds"
   ]
  },
  {
   "cell_type": "code",
   "execution_count": 6,
   "id": "7eca6010-7b9d-434a-b2e3-12b54264aefc",
   "metadata": {},
   "outputs": [
    {
     "name": "stdout",
     "output_type": "stream",
     "text": [
      "desc_stats using statsmodels :                        Marks1\n",
      "nobs                6.000000\n",
      "missing             0.000000\n",
      "mean              248.333333\n",
      "std_err             4.878145\n",
      "upper_ci          257.894321\n",
      "lower_ci          238.772345\n",
      "std                29.268869\n",
      "iqr                32.500000\n",
      "iqr_normal         24.092286\n",
      "mad                22.222222\n",
      "mad_normal         27.851425\n",
      "coef_var            0.117861\n",
      "range              80.000000\n",
      "max               280.000000\n",
      "min               200.000000\n",
      "skew               -0.660190\n",
      "kurtosis            2.228664\n",
      "jarque_bera         0.584591\n",
      "jarque_bera_pval    0.746548\n",
      "mode              200.000000\n",
      "mode_freq           0.166667\n",
      "median            255.000000\n",
      "1%                201.500000\n",
      "5%                207.500000\n",
      "10%               215.000000\n",
      "25%               235.000000\n",
      "50%               255.000000\n",
      "75%               267.500000\n",
      "90%               275.000000\n",
      "95%               277.500000\n",
      "99%               279.500000\n"
     ]
    },
    {
     "name": "stderr",
     "output_type": "stream",
     "text": [
      "/home/ashish/anaconda3/lib/python3.9/site-packages/statsmodels/stats/descriptivestats.py:418: FutureWarning: Unlike other reduction functions (e.g. `skew`, `kurtosis`), the default behavior of `mode` typically preserves the axis it acts along. In SciPy 1.11.0, this behavior will change: the default value of `keepdims` will become False, the `axis` over which the statistic is taken will be eliminated, and the value None will no longer be accepted. Set `keepdims` to True or False to avoid this warning.\n",
      "  mode_res = stats.mode(ser.dropna())\n"
     ]
    }
   ],
   "source": [
    "# Long summary\n",
    "desc_stats = ds.describe(df['Marks1'])\n",
    "print(\"desc_stats using statsmodels : \", desc_stats)"
   ]
  },
  {
   "cell_type": "raw",
   "id": "cbb60668-dace-483a-adfe-57cd022d6ffe",
   "metadata": {},
   "source": [
    "class sklearn.preprocessing.MinMaxScaler(feature_range=(0, 1), *, copy=True, clip=False)\n",
    "\n",
    "new_min: 0 (Default value as given by feature_range)\n",
    "new_max: 1 (Default value)"
   ]
  },
  {
   "cell_type": "code",
   "execution_count": 7,
   "id": "1a30c40e-60b7-4676-9bef-180fcec2df00",
   "metadata": {},
   "outputs": [
    {
     "name": "stdout",
     "output_type": "stream",
     "text": [
      "Marks1 200.0 280.0\n",
      "Marks2 40.0 70.0\n",
      "Marks3 30.0 60.0\n"
     ]
    }
   ],
   "source": [
    "marks_col = ['Marks1', 'Marks2', 'Marks3']\n",
    "for i in marks_col:\n",
    "    minmarks = df[i].describe().loc['min']\n",
    "    maxmarks = df[i].describe().loc['max']\n",
    "    print(i, minmarks, maxmarks)"
   ]
  },
  {
   "cell_type": "code",
   "execution_count": 8,
   "id": "d36b9414-3fbf-4ba1-91e9-cc9322f0fbfc",
   "metadata": {},
   "outputs": [],
   "source": [
    "from sklearn.preprocessing import MinMaxScaler\n",
    "\n",
    "scaler = MinMaxScaler()\n",
    "\n",
    "\n",
    "scaled_marks = scaler.fit_transform(df[marks_col])\n",
    "scaled_marks = pd.DataFrame(scaled_marks)"
   ]
  },
  {
   "cell_type": "code",
   "execution_count": 9,
   "id": "a8bd0e99-10dd-458b-89d4-4a3e079f3266",
   "metadata": {},
   "outputs": [],
   "source": [
    "scaled_marks.columns = ['Scaled1', 'Scaled2', 'Scaled3']"
   ]
  },
  {
   "cell_type": "code",
   "execution_count": 10,
   "id": "92c45796-10a7-43b8-8e58-38d960923eec",
   "metadata": {},
   "outputs": [
    {
     "data": {
      "text/html": [
       "<div>\n",
       "<style scoped>\n",
       "    .dataframe tbody tr th:only-of-type {\n",
       "        vertical-align: middle;\n",
       "    }\n",
       "\n",
       "    .dataframe tbody tr th {\n",
       "        vertical-align: top;\n",
       "    }\n",
       "\n",
       "    .dataframe thead th {\n",
       "        text-align: right;\n",
       "    }\n",
       "</style>\n",
       "<table border=\"1\" class=\"dataframe\">\n",
       "  <thead>\n",
       "    <tr style=\"text-align: right;\">\n",
       "      <th></th>\n",
       "      <th>Scaled1</th>\n",
       "      <th>Scaled2</th>\n",
       "      <th>Scaled3</th>\n",
       "    </tr>\n",
       "  </thead>\n",
       "  <tbody>\n",
       "    <tr>\n",
       "      <th>0</th>\n",
       "      <td>1.000</td>\n",
       "      <td>1.000000</td>\n",
       "      <td>1.000000</td>\n",
       "    </tr>\n",
       "    <tr>\n",
       "      <th>1</th>\n",
       "      <td>0.000</td>\n",
       "      <td>0.666667</td>\n",
       "      <td>0.833333</td>\n",
       "    </tr>\n",
       "    <tr>\n",
       "      <th>2</th>\n",
       "      <td>0.875</td>\n",
       "      <td>0.000000</td>\n",
       "      <td>0.000000</td>\n",
       "    </tr>\n",
       "    <tr>\n",
       "      <th>3</th>\n",
       "      <td>0.625</td>\n",
       "      <td>0.500000</td>\n",
       "      <td>0.533333</td>\n",
       "    </tr>\n",
       "    <tr>\n",
       "      <th>4</th>\n",
       "      <td>0.750</td>\n",
       "      <td>0.466667</td>\n",
       "      <td>0.500000</td>\n",
       "    </tr>\n",
       "    <tr>\n",
       "      <th>5</th>\n",
       "      <td>0.375</td>\n",
       "      <td>0.500000</td>\n",
       "      <td>0.166667</td>\n",
       "    </tr>\n",
       "  </tbody>\n",
       "</table>\n",
       "</div>"
      ],
      "text/plain": [
       "   Scaled1   Scaled2   Scaled3\n",
       "0    1.000  1.000000  1.000000\n",
       "1    0.000  0.666667  0.833333\n",
       "2    0.875  0.000000  0.000000\n",
       "3    0.625  0.500000  0.533333\n",
       "4    0.750  0.466667  0.500000\n",
       "5    0.375  0.500000  0.166667"
      ]
     },
     "execution_count": 10,
     "metadata": {},
     "output_type": "execute_result"
    }
   ],
   "source": [
    "scaled_marks"
   ]
  },
  {
   "cell_type": "raw",
   "id": "be99aedf-3b13-4de8-8938-147a56838309",
   "metadata": {},
   "source": [
    ">>> print(scaler.data_max_)\n",
    "[ 1. 18.]\n",
    ">>> print(scaler.transform(data))\n",
    "[[0.   0.  ]\n",
    " [0.25 0.25]\n",
    " [0.5  0.5 ]\n",
    " [1.   1.  ]]\n",
    ">>> print(scaler.transform([[2, 2]]))\n",
    "[[1.5 0. ]]"
   ]
  },
  {
   "cell_type": "code",
   "execution_count": null,
   "id": "e3713983-4e7d-45e5-99d6-30e2ee146ca0",
   "metadata": {},
   "outputs": [],
   "source": []
  },
  {
   "cell_type": "markdown",
   "id": "c16e6ac7-4612-4966-8f18-9ef7ffbcba75",
   "metadata": {},
   "source": [
    "# With outlier in data: MinMaxScaler squashes the other values"
   ]
  },
  {
   "cell_type": "code",
   "execution_count": 11,
   "id": "1c7e4644-4413-4f19-9d9c-ee7e4d9951a7",
   "metadata": {},
   "outputs": [],
   "source": [
    "dfo = pd.read_csv('student_marks_outlier.csv')"
   ]
  },
  {
   "cell_type": "code",
   "execution_count": 12,
   "id": "a16728bd-355c-49ca-ae27-bc50beefc1b4",
   "metadata": {},
   "outputs": [
    {
     "data": {
      "text/html": [
       "<div>\n",
       "<style scoped>\n",
       "    .dataframe tbody tr th:only-of-type {\n",
       "        vertical-align: middle;\n",
       "    }\n",
       "\n",
       "    .dataframe tbody tr th {\n",
       "        vertical-align: top;\n",
       "    }\n",
       "\n",
       "    .dataframe thead th {\n",
       "        text-align: right;\n",
       "    }\n",
       "</style>\n",
       "<table border=\"1\" class=\"dataframe\">\n",
       "  <thead>\n",
       "    <tr style=\"text-align: right;\">\n",
       "      <th></th>\n",
       "      <th>Student</th>\n",
       "      <th>Marks1</th>\n",
       "      <th>Marks2</th>\n",
       "      <th>Marks3</th>\n",
       "    </tr>\n",
       "  </thead>\n",
       "  <tbody>\n",
       "    <tr>\n",
       "      <th>0</th>\n",
       "      <td>1</td>\n",
       "      <td>280</td>\n",
       "      <td>70</td>\n",
       "      <td>60</td>\n",
       "    </tr>\n",
       "    <tr>\n",
       "      <th>1</th>\n",
       "      <td>2</td>\n",
       "      <td>200</td>\n",
       "      <td>60</td>\n",
       "      <td>55</td>\n",
       "    </tr>\n",
       "    <tr>\n",
       "      <th>2</th>\n",
       "      <td>3</td>\n",
       "      <td>270</td>\n",
       "      <td>40</td>\n",
       "      <td>30</td>\n",
       "    </tr>\n",
       "    <tr>\n",
       "      <th>3</th>\n",
       "      <td>Harshitha</td>\n",
       "      <td>250</td>\n",
       "      <td>55</td>\n",
       "      <td>46</td>\n",
       "    </tr>\n",
       "    <tr>\n",
       "      <th>4</th>\n",
       "      <td>Yaju</td>\n",
       "      <td>260</td>\n",
       "      <td>54</td>\n",
       "      <td>45</td>\n",
       "    </tr>\n",
       "    <tr>\n",
       "      <th>5</th>\n",
       "      <td>Sahaj</td>\n",
       "      <td>230</td>\n",
       "      <td>55</td>\n",
       "      <td>35</td>\n",
       "    </tr>\n",
       "    <tr>\n",
       "      <th>6</th>\n",
       "      <td>Outlier</td>\n",
       "      <td>5000</td>\n",
       "      <td>5000</td>\n",
       "      <td>5000</td>\n",
       "    </tr>\n",
       "  </tbody>\n",
       "</table>\n",
       "</div>"
      ],
      "text/plain": [
       "     Student  Marks1  Marks2  Marks3\n",
       "0          1     280      70      60\n",
       "1          2     200      60      55\n",
       "2          3     270      40      30\n",
       "3  Harshitha     250      55      46\n",
       "4       Yaju     260      54      45\n",
       "5      Sahaj     230      55      35\n",
       "6    Outlier    5000    5000    5000"
      ]
     },
     "execution_count": 12,
     "metadata": {},
     "output_type": "execute_result"
    }
   ],
   "source": [
    "dfo"
   ]
  },
  {
   "cell_type": "code",
   "execution_count": 13,
   "id": "b6987f70-ad83-4491-8959-f0e52cf5d27e",
   "metadata": {},
   "outputs": [],
   "source": [
    "scaled_marks = scaler.fit_transform(dfo[marks_col])\n",
    "scaled_marks = pd.DataFrame(scaled_marks)"
   ]
  },
  {
   "cell_type": "code",
   "execution_count": 14,
   "id": "5b5c7088-8b4f-4db8-8890-84781c3ee0b0",
   "metadata": {},
   "outputs": [
    {
     "data": {
      "text/html": [
       "<div>\n",
       "<style scoped>\n",
       "    .dataframe tbody tr th:only-of-type {\n",
       "        vertical-align: middle;\n",
       "    }\n",
       "\n",
       "    .dataframe tbody tr th {\n",
       "        vertical-align: top;\n",
       "    }\n",
       "\n",
       "    .dataframe thead th {\n",
       "        text-align: right;\n",
       "    }\n",
       "</style>\n",
       "<table border=\"1\" class=\"dataframe\">\n",
       "  <thead>\n",
       "    <tr style=\"text-align: right;\">\n",
       "      <th></th>\n",
       "      <th>0</th>\n",
       "      <th>1</th>\n",
       "      <th>2</th>\n",
       "    </tr>\n",
       "  </thead>\n",
       "  <tbody>\n",
       "    <tr>\n",
       "      <th>0</th>\n",
       "      <td>0.016667</td>\n",
       "      <td>0.006048</td>\n",
       "      <td>0.006036</td>\n",
       "    </tr>\n",
       "    <tr>\n",
       "      <th>1</th>\n",
       "      <td>0.000000</td>\n",
       "      <td>0.004032</td>\n",
       "      <td>0.005030</td>\n",
       "    </tr>\n",
       "    <tr>\n",
       "      <th>2</th>\n",
       "      <td>0.014583</td>\n",
       "      <td>0.000000</td>\n",
       "      <td>0.000000</td>\n",
       "    </tr>\n",
       "    <tr>\n",
       "      <th>3</th>\n",
       "      <td>0.010417</td>\n",
       "      <td>0.003024</td>\n",
       "      <td>0.003219</td>\n",
       "    </tr>\n",
       "    <tr>\n",
       "      <th>4</th>\n",
       "      <td>0.012500</td>\n",
       "      <td>0.002823</td>\n",
       "      <td>0.003018</td>\n",
       "    </tr>\n",
       "    <tr>\n",
       "      <th>5</th>\n",
       "      <td>0.006250</td>\n",
       "      <td>0.003024</td>\n",
       "      <td>0.001006</td>\n",
       "    </tr>\n",
       "    <tr>\n",
       "      <th>6</th>\n",
       "      <td>1.000000</td>\n",
       "      <td>1.000000</td>\n",
       "      <td>1.000000</td>\n",
       "    </tr>\n",
       "  </tbody>\n",
       "</table>\n",
       "</div>"
      ],
      "text/plain": [
       "          0         1         2\n",
       "0  0.016667  0.006048  0.006036\n",
       "1  0.000000  0.004032  0.005030\n",
       "2  0.014583  0.000000  0.000000\n",
       "3  0.010417  0.003024  0.003219\n",
       "4  0.012500  0.002823  0.003018\n",
       "5  0.006250  0.003024  0.001006\n",
       "6  1.000000  1.000000  1.000000"
      ]
     },
     "execution_count": 14,
     "metadata": {},
     "output_type": "execute_result"
    }
   ],
   "source": [
    "scaled_marks"
   ]
  },
  {
   "cell_type": "markdown",
   "id": "13dbda6f-b94a-4d6a-88c5-bccf19db56b7",
   "metadata": {},
   "source": [
    "# Thing to remember: Do not use MinMaxScaler on data with outliers. "
   ]
  },
  {
   "cell_type": "code",
   "execution_count": null,
   "id": "1ad76518-ee6e-489f-a244-14b12fd17d03",
   "metadata": {},
   "outputs": [],
   "source": []
  }
 ],
 "metadata": {
  "kernelspec": {
   "display_name": "Python 3 (ipykernel)",
   "language": "python",
   "name": "python3"
  },
  "language_info": {
   "codemirror_mode": {
    "name": "ipython",
    "version": 3
   },
   "file_extension": ".py",
   "mimetype": "text/x-python",
   "name": "python",
   "nbconvert_exporter": "python",
   "pygments_lexer": "ipython3",
   "version": "3.9.13"
  }
 },
 "nbformat": 4,
 "nbformat_minor": 5
}
