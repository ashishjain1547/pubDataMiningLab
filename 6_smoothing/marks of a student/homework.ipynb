{
 "cells": [
  {
   "cell_type": "code",
   "execution_count": 1,
   "id": "2c42a02b-9e44-47b4-afb6-73f880e9fe7b",
   "metadata": {},
   "outputs": [],
   "source": [
    "import pandas as pd"
   ]
  },
  {
   "cell_type": "raw",
   "id": "97c8f082-88c4-429e-833e-9e2bc1a36512",
   "metadata": {},
   "source": [
    "1. What is the mean marks of student when he was in 7th and 8th grade?\n",
    "2. What is the mean marks of student in math across all grades?\n",
    "3. What is the median marks of student when he was in 7th and 8th grade?\n",
    "4. What is the median marks of student in math across all grades?\n",
    "5. What is min and max marks of student in math across all grades?"
   ]
  },
  {
   "cell_type": "code",
   "execution_count": null,
   "id": "741321a7-aa60-46ae-ab4b-a9f65584ca33",
   "metadata": {},
   "outputs": [],
   "source": []
  }
 ],
 "metadata": {
  "kernelspec": {
   "display_name": "Python 3 (ipykernel)",
   "language": "python",
   "name": "python3"
  },
  "language_info": {
   "codemirror_mode": {
    "name": "ipython",
    "version": 3
   },
   "file_extension": ".py",
   "mimetype": "text/x-python",
   "name": "python",
   "nbconvert_exporter": "python",
   "pygments_lexer": "ipython3",
   "version": "3.9.13"
  }
 },
 "nbformat": 4,
 "nbformat_minor": 5
}
